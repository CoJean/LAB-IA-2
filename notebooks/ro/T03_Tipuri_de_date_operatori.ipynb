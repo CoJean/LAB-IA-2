{
  "cells": [
    {
      "cell_type": "markdown",
      "metadata": {
        "id": "5ImPitDFr2IS"
      },
      "source": [
        "<img src='https://upload.wikimedia.org/wikipedia/commons/c/c3/Python-logo-notext.svg' width=50/>\n",
        "<img src='https://upload.wikimedia.org/wikipedia/commons/d/d0/Google_Colaboratory_SVG_Logo.svg' width=90/>\n",
        "\n",
        "# <font size=50>Introducere în Python folosind Google Colab</font>\n",
        "<font color=\"#e8710a\">© Adriana STAN, 2022</font>\n",
        "\n",
        "<font color=\"#e8710a\">Contributor: Gabriel ERDEI </font>\n",
        "\n",
        "[![Open In Colab](https://colab.research.google.com/assets/colab-badge.svg)](https://colab.research.google.com/github/adrianastan/python-intro/blob/main/notebooks/ro/T03_Tipuri_de_date_operatori.ipynb)\n",
        "\n"
      ]
    },
    {
      "cell_type": "markdown",
      "metadata": {
        "id": "fb0yojQHofDc"
      },
      "source": [
        "#<font color=\"#e8710a\">T03. Tipuri de date. Operatori.</font>\n",
        "\n",
        "---\n",
        "\n",
        "<font color=\"#1589FF\"><b>Timp estimat de parcurgere:</b> 120 min</font>\n",
        "\n",
        "---\n"
      ]
    },
    {
      "cell_type": "markdown",
      "metadata": {
        "id": "9Xq-_kbXwC8F"
      },
      "source": [
        "##<font color=\"#e8710a\">Variabile, obiecte, referințe</font>\n",
        "\n",
        "Una dintre particularitățile limbajului Python care poate crea confuzii la începutul utilizării limbajului se referă la faptul că\n",
        " toate datele în Python sunt **<font color=\"#e8710a\">OBIECTE</font>** și că, pentru tipurile de date fundamentale, modul de inițializare a variabilelor determină în mod automat tipul obiectului pe care îl referențiază. Acest concept este denumit tipizare dinamică (en. *dynamic typing*). Datorită acestui fapt, **tipurile de date sunt asociate obiectelor** și nu variabilelor, varibilele fiind doar referințe (pointeri) către spațiile de memorie unde sunt păstrate datele.\n",
        "\n",
        "Este nevoie, astfel, să facem o diferență clară între variabile, obiecte și referințe:\n",
        "\n",
        "* Variabilele sunt intrări în tabelul de sistem și au spații alocate pentru păstrarea legăturii (referinței) către obiecte.\n",
        "* Obiectele sunt segmente de memorie alocată cu spațiu suficient pentru a stoca valorile lor;\n",
        "* Referințele (pointerii) sunt legături între variabile și obiecte.\n",
        "\n",
        "\n",
        "<center><img src='https://raw.githubusercontent.com/adrianastan/python-intro/main/notebooks/ro/imgs/T02_referinte1.png' height=150/></center>\n"
      ]
    },
    {
      "cell_type": "code",
      "execution_count": null,
      "metadata": {
        "colab": {
          "base_uri": "https://localhost:8080/"
        },
        "id": "B_8oeLhCEx1d",
        "outputId": "af5aec35-fcbd-4916-aefa-6e3cfcb54924"
      },
      "outputs": [
        {
          "name": "stdout",
          "output_type": "stream",
          "text": [
            "Adresa referită de a:  0xabc140\n",
            "Adresa obiectului 3:  0xabc140\n"
          ]
        }
      ],
      "source": [
        "# Referința variabilei și adresa obiectului\n",
        "a = 3\n",
        "print(\"Adresa referită de a: \", hex(id(a)))\n",
        "print(\"Adresa obiectului 3: \", hex(id(3)))"
      ]
    },
    {
      "cell_type": "code",
      "execution_count": null,
      "metadata": {
        "colab": {
          "base_uri": "https://localhost:8080/"
        },
        "id": "V7d8vs5gE5cH",
        "outputId": "a005dd1b-4908-471d-ebdf-35efc8d3cd7d"
      },
      "outputs": [
        {
          "name": "stdout",
          "output_type": "stream",
          "text": [
            "Adresa referită de a:  0xabc160\n",
            "Adresa obiectului 3:  0xabc140\n",
            "Adresa obiectului 4:  0xabc160\n"
          ]
        }
      ],
      "source": [
        "# Modificarea valorii varibilei modifică referința\n",
        "a = 4\n",
        "print(\"Adresa referită de a: \", hex(id(a)))\n",
        "print(\"Adresa obiectului 3: \", hex(id(3)))\n",
        "print(\"Adresa obiectului 4: \", hex(id(4)))"
      ]
    },
    {
      "cell_type": "code",
      "execution_count": null,
      "metadata": {
        "colab": {
          "base_uri": "https://localhost:8080/"
        },
        "id": "6zncXkGL5ngp",
        "outputId": "b2e6b567-72e5-47f9-e4f0-112b29892fa2"
      },
      "outputs": [
        {
          "name": "stdout",
          "output_type": "stream",
          "text": [
            "Adresa referită de a:  0xa9c260\n",
            "Adresa obiectului 3:  0xabc140\n",
            "Adresa obiectului 4:  0xabc160\n"
          ]
        }
      ],
      "source": [
        "# Ștergerea referinței\n",
        "a = None\n",
        "print(\"Adresa referită de a: \", hex(id(a)))\n",
        "print(\"Adresa obiectului 3: \", hex(id(3)))\n",
        "print(\"Adresa obiectului 4: \", hex(id(4)))"
      ]
    },
    {
      "cell_type": "markdown",
      "metadata": {
        "id": "gYJyQsbzYiV8"
      },
      "source": [
        "Odată cu ștergerea referinței lui a către un anumit obiect, observăm că se va face o referire la o adresă oarecare din memorie (în acest caz 0xa9c260)."
      ]
    },
    {
      "cell_type": "markdown",
      "metadata": {
        "id": "DuLdv2iF6Sej"
      },
      "source": [
        "**<font color=\"#1589FF\">Variabile</font>**\n",
        "\n",
        "În ceea ce privește variabilele în Python, avem următoarele caracteristici:\n",
        "\n",
        "* Variabilele sunt create atunci când li se atribuie valori prima dată;\n",
        "* Variabilele sunt înlocuite cu valorile lor în expresii;\n",
        "* Variabilele trebuie să refere un obiect înainte de a fi utilizate în expresii;\n",
        "* Variabilele referă obiecte și nu sunt declarate înainte de utilizare (așa cum se poate face în C/C++ sau Java).\n",
        "\n",
        "\n",
        "**<font color=\"#1589FF\">Referințe comune</font>**\n",
        "\n",
        "Deoarece obiectele sunt cele care au alocată memorie, iar variabilele rețin doar referințe către aceste zone de memorie, în cazul în care mai multe variabile au aceeași valoare, vor indica aceeași locație de memorie. Acest mecanism permite utilizarea extrem de eficientă a memoriei."
      ]
    },
    {
      "cell_type": "code",
      "execution_count": null,
      "metadata": {
        "colab": {
          "base_uri": "https://localhost:8080/"
        },
        "id": "56W4-Zp-FsUW",
        "outputId": "8f7bc0d3-1744-4bdf-9f86-76374422ef34"
      },
      "outputs": [
        {
          "name": "stdout",
          "output_type": "stream",
          "text": [
            "Adresa referită de a:  0xabc140\n",
            "Adresa referită de b:  0xabc140\n",
            "Adresa obiectului 3:  0xabc140\n"
          ]
        }
      ],
      "source": [
        "a = 3\n",
        "b = 3\n",
        "print(\"Adresa referită de a: \", hex(id(a)))\n",
        "print(\"Adresa referită de b: \", hex(id(b)))\n",
        "print(\"Adresa obiectului 3: \", hex(id(3)))"
      ]
    },
    {
      "cell_type": "code",
      "execution_count": null,
      "metadata": {
        "colab": {
          "base_uri": "https://localhost:8080/"
        },
        "id": "IwEBbltGFycB",
        "outputId": "15c1d88e-e786-4e75-e57e-62c04e27150d"
      },
      "outputs": [
        {
          "name": "stdout",
          "output_type": "stream",
          "text": [
            "Adresa referită de c:  0xabc140\n"
          ]
        }
      ],
      "source": [
        "# Copiem referința făcută de b\n",
        "c = b\n",
        "print(\"Adresa referită de c: \", hex(id(c)))"
      ]
    },
    {
      "cell_type": "code",
      "execution_count": null,
      "metadata": {
        "colab": {
          "base_uri": "https://localhost:8080/"
        },
        "id": "M9mi5r5RF_vB",
        "outputId": "e0e463d9-be31-413d-dada-aabbe2325286"
      },
      "outputs": [
        {
          "name": "stdout",
          "output_type": "stream",
          "text": [
            "Adresa referită de b:  0xabc160\n",
            "Adresa referită de c:  0xabc140\n"
          ]
        }
      ],
      "source": [
        "# Modificăm referința făcută de b\n",
        "b = 4\n",
        "print(\"Adresa referită de b: \", hex(id(b)))\n",
        "print(\"Adresa referită de c: \", hex(id(c)))"
      ]
    },
    {
      "cell_type": "markdown",
      "metadata": {
        "id": "zF4CybSt58GC"
      },
      "source": [
        "\n",
        "**<font color=\"#1589FF\">Eliberarea memoriei (en. *garbage collection*)</font>**\n",
        "\n",
        "Mecanismul de eliberare a memoriei în Python este unul automat în sensul că obiectele nefolosite sunt automat de-alocate. Această dealocare se face prin numărarea referințelor ce pointează la un anumit obiect din memorie (en. *reference counting*). Dacă acest număr ajunge la 0, spațiul de memorie este eliberat.\n",
        "\n",
        "Este important de remarcat faptul că numărarea referințelor se face relativ la tot codul ce rulează momentan în mediul Python (inclusiv biblioteca standard și module terțe), astfel încât, de exemplu, pentru valoarea 1, vom avea un număr mare de referințe:\n"
      ]
    },
    {
      "cell_type": "code",
      "execution_count": null,
      "metadata": {
        "colab": {
          "base_uri": "https://localhost:8080/"
        },
        "id": "lrLtkT3IGMNR",
        "outputId": "5262c985-af72-4dde-e14f-d9bf92250e6c"
      },
      "outputs": [
        {
          "name": "stdout",
          "output_type": "stream",
          "text": [
            "Numărul de referințe către obiectul 1: 6972\n"
          ]
        }
      ],
      "source": [
        "import sys\n",
        "print(\"Numărul de referințe către obiectul 1:\", sys.getrefcount(1))"
      ]
    },
    {
      "cell_type": "markdown",
      "metadata": {
        "id": "4VasF5HSHadx"
      },
      "source": [
        "Dar pentru valori mai puțin întâlnite vom avea cel puțin 3 referințe, una dintre acestea fiind legată și de variabila temporară creată pentru apelul metodei `getrefcount()`"
      ]
    },
    {
      "cell_type": "code",
      "execution_count": null,
      "metadata": {
        "colab": {
          "base_uri": "https://localhost:8080/"
        },
        "id": "GZoAwORAHZvb",
        "outputId": "cea7dcc1-5797-45f6-ca2c-281f4fe98bb5"
      },
      "outputs": [
        {
          "name": "stdout",
          "output_type": "stream",
          "text": [
            "Numărul de referințe către obiectul 123456789: 3\n"
          ]
        }
      ],
      "source": [
        "print(\"Numărul de referințe către obiectul 123456789:\",sys.getrefcount(123456789))"
      ]
    },
    {
      "cell_type": "markdown",
      "metadata": {
        "id": "M2CzhQItHwvU"
      },
      "source": [
        "Totodată este important de reținut faptul că ștergerea unei variabile nu implică și ștergerea obiectului pointat în memorie dacă acesta este referit și de alte variabile:"
      ]
    },
    {
      "cell_type": "code",
      "execution_count": null,
      "metadata": {
        "colab": {
          "base_uri": "https://localhost:8080/"
        },
        "id": "H-jQeDH_H8bT",
        "outputId": "511f7988-110a-42cf-ef96-59c3c032c5fa"
      },
      "outputs": [
        {
          "name": "stdout",
          "output_type": "stream",
          "text": [
            "Nr de referințe către obiectul referit de b: 6\n",
            "Nr de referințe către obiectul referit de b după ștergerea a: 5\n",
            "Nr de referințe către obiectul referit de b după ștergerea c: 4\n"
          ]
        }
      ],
      "source": [
        "a = 987654321\n",
        "b = a\n",
        "c = a\n",
        "d = a\n",
        "print (\"Nr de referințe către obiectul referit de b:\", sys.getrefcount(b))\n",
        "del a\n",
        "print (\"Nr de referințe către obiectul referit de b după ștergerea a:\", sys.getrefcount(b))\n",
        "del c\n",
        "print (\"Nr de referințe către obiectul referit de b după ștergerea c:\", sys.getrefcount(b))"
      ]
    },
    {
      "cell_type": "markdown",
      "metadata": {
        "id": "6nld0LPQZ-vL"
      },
      "source": [
        "Numărul de referințe se modifică și atunci când o variabilă referă alt obiect:"
      ]
    },
    {
      "cell_type": "code",
      "execution_count": null,
      "metadata": {
        "colab": {
          "base_uri": "https://localhost:8080/"
        },
        "id": "ir9J52XIaD9d",
        "outputId": "383380f5-bdc1-4b7b-ed5f-75412b9baf6f"
      },
      "outputs": [
        {
          "name": "stdout",
          "output_type": "stream",
          "text": [
            "Nr de referințe către obiectul referit de b: 6\n",
            "Nr de referințe către obiectul referit de b după modificarea a: 5\n",
            "Nr de referințe către obiectul referit de b după modificarea c: 4\n"
          ]
        }
      ],
      "source": [
        "a = 987654321\n",
        "b = a\n",
        "c = a\n",
        "d = a\n",
        "print (\"Nr de referințe către obiectul referit de b:\", sys.getrefcount(b))\n",
        "a = 3\n",
        "print (\"Nr de referințe către obiectul referit de b după modificarea a:\", sys.getrefcount(b))\n",
        "c = 4\n",
        "print (\"Nr de referințe către obiectul referit de b după modificarea c:\", sys.getrefcount(b))"
      ]
    },
    {
      "cell_type": "markdown",
      "metadata": {
        "id": "p5I05OPtm0yc"
      },
      "source": [
        "**<font color=\"#1589FF\">Tipuri de date fundamentale (core/built-in)</font>**\n",
        "\n",
        "În tutorialul anterior am introdus pe scurt tipurile de date fundamentale din limbajul Python:\n",
        "\n",
        "Tipul obiectului | Exemplu\n",
        "--- | ---\n",
        "Număr | 1234, 3.1415, 3+4j, 0b111, Decimal(), Fraction()\n",
        "String | 'Ana', \"Maria\", b'a\\x01c', u'An\\xc4'\n",
        "Listă | [1, [2, 'trei'], 4.5], list(range(10))\n",
        "Dicționar | {'cheie': 'valoare', 'key': 'value'}, dict(cheie=3.14)\n",
        "Set | set('abc'), {'a', 'b', 'c'}\n",
        "Tuplu | (1, 'Ana', 'c', 3.14), tuple('Ana'), namedtuple\n",
        "Fișier | open('fisier.txt'), open(r'C:\\fisier.bin', 'wb')\n",
        "Alte tipuri de bază | Boolean, bytes, bytearray, None\n",
        "\n",
        "Iar în continuare vom prezenta atributele și metodele asociate acestor tipuri de date."
      ]
    },
    {
      "cell_type": "markdown",
      "metadata": {
        "id": "naBe2G01nWbI"
      },
      "source": [
        "##<font color=\"#e8710a\">Tipuri de date numerice</font>\n",
        "\n",
        "Una dintre cele mai des întâlnite aplicații ale limbajului Python se referă la analiza numerică sau lucrul cu structuri de date numerice de dimensiuni mari. Astfel că universul numeric din Python este extrem de extins și poate fi extins și mai mult prin utilizarea pachetului [NumPy](https://numpy.org/).\n",
        "\n",
        "\n",
        "Cele mai importante tipuri de date numerice și funcționalități asociate ale acestora  sunt:\n",
        "\n",
        "* obiecte întregi și reale cu virgulă flotantă;\n",
        "* obiecte numerice complexe;\n",
        "* obiecte cu precizie fixă (zecimale);\n",
        "* obiecte numere raționale (fracții);\n",
        "* colecții cu operații numerice (seturi);\n",
        "* valori de adevăr (booleeni): `True, False`;\n",
        "* metode și module predefinite: `round(), math, random`, etc.\n",
        "* expresii; precizie întreagă nelimitată; operații la nivel de bit; format hexa, octal și binar;\n",
        "* extensii terțe: vectori, vizualizare, afișare, etc.\n",
        "\n"
      ]
    },
    {
      "cell_type": "markdown",
      "metadata": {
        "id": "MrbH-W_KRFTX"
      },
      "source": [
        "**Date numerice și definirea lor**\n",
        "\n",
        "Reprezentare | Interpretare\n",
        "--- | ---\n",
        "1234, −24, 0, 99999999999999 | Întreg (dimensiune nelimitată)\n",
        "1.23, 1., 3.14e-10, 4E210, 4.0e+210 | Numere în virgulă flotantă\n",
        "0o177, 0x9ff, 0b101010 | Octal, hexa, binar\n",
        "3+4j, 3.0+4.0j, 3J | Numere complexe\n",
        "set('spam'), {1, 2, 3, 4} | Constructori set\n",
        "Decimal('1.0'), Fraction(1, 3) | Extensii de tip\n",
        "bool(X), True, False | Tipul boolean și constante\n"
      ]
    },
    {
      "cell_type": "code",
      "execution_count": null,
      "metadata": {
        "colab": {
          "base_uri": "https://localhost:8080/"
        },
        "id": "J3inqF2WQ1va",
        "outputId": "5af64421-c1dd-49fc-f7b6-35b90f499279"
      },
      "outputs": [
        {
          "name": "stdout",
          "output_type": "stream",
          "text": [
            "Tipul de date referit de a: <class 'float'>\n",
            "Tipul de date referit de b: <class 'int'>\n",
            "Tipul de date referit de c: <class 'complex'>\n",
            "Tipul de date referit de d: <class 'bool'>\n"
          ]
        }
      ],
      "source": [
        "# Inițializarea pentru diferite tipuri de date numerice\n",
        "a = 3.14\n",
        "print(\"Tipul de date referit de a:\",type(a))\n",
        "b = 0x7\n",
        "print(\"Tipul de date referit de b:\",type(b))\n",
        "c = 3+4j\n",
        "print(\"Tipul de date referit de c:\",type(c))\n",
        "d = True\n",
        "print(\"Tipul de date referit de d:\",type(d))"
      ]
    },
    {
      "cell_type": "markdown",
      "metadata": {
        "id": "fBvvJdkYpDjI"
      },
      "source": [
        "### <font color=\"#e8710a\">Operatori numerici și precedență</font>\n",
        "Datele numerice sunt combinate în programe prin intermediul operatorilor în expresii ce pot deveni extrem de complexe. Astfel că, este important să se cunoască ordinea de execuție a operatorilor sau precedența acestora. Tabelul de mai jos prezintă această ordine de execuție, însă\n",
        " este expus în ordine inversă a precedenței (ultimele rânduri au precedența maximă).\n",
        "\n",
        "\n",
        "Operator | Descriere\n",
        "--- | ---\n",
        "`yield x` | Funcție generator\n",
        "`lambda args: expression` | Funcție lambda\n",
        "`x if y else z` | Operator ternar\n",
        "`x or y `| Sau logic\n",
        "`x and y `| Și logic\n",
        "`not x` | Negare logică\n",
        "`x in y, x not in y` | Apartenență (iterabili, seturi)\n",
        "`x is y, x is not y` | Identitatea obiectelor,\n",
        "`x < y, x <= y, x > y, x >= y` | Operatori relaționali, subset set și superset\n",
        "`x == y, x != y` | Egalitate numerică\n",
        "`x \\| y` | Sau pe biți, reuniune set\n",
        "`x ^ y` | XOR pe biți, diferență simetrică set\n",
        "`x & y` | Și pe biți, intersecție seturi\n",
        "`x << y, x >> y` | Deplasare stânga-dreapta pe biți\n",
        "`x + y` | Adunare, concatenare\n",
        "`x – y` | Scădere, diferență seturi\n",
        "`x * y` | Înmulțire, repetare seturi\n",
        "`x % y` | Restul împărțirii, formatare\n",
        "`x / y, x // y` | Împărțire, împărțire întreagă\n",
        "`−x, +x` | Negare, identitate\n",
        "`~x` | Negare pe biți\n",
        "`x ** y `| Ridicare la putere\n",
        "`x[i]` | Indexare\n",
        "`x[i:j:k]` | Partiționare\n",
        "`x(...) `| Apel funcții, metode, clase\n",
        "`x.attr` | Referire atribut\n",
        "`(...)` | Tuplu, expresie, expresie generator\n",
        "`[...]` | Listă, list comprehension\n",
        "`{...}` |Dicționar, set, dictionary and set comprehension\n",
        "\n",
        "\n",
        "**OBSERVAȚII**\n",
        "\n",
        "* Parantezele pot modifica ordinea de execuție a operațiilor;\n",
        "\n",
        "* Operatorii aplicați asupra tipurile de date mixte determină conversia implicită la tipul de date mai complex;\n",
        "\n",
        "* Se poate forța obținerea unui anumit rezultat folosind conversie explicită (ex. `int(43.5)`);\n",
        "\n",
        "* Conversia implicită funcționează doar pentru tipurile numerice;\n",
        "\n",
        "* Există posibilitatea supraîncărcării operatorilor și utilizarea polimorfismului.\n"
      ]
    },
    {
      "cell_type": "code",
      "execution_count": null,
      "metadata": {
        "colab": {
          "base_uri": "https://localhost:8080/"
        },
        "id": "dJORaQ8m4MqN",
        "outputId": "0025b460-30fa-455f-93d0-2651b12b2d3f"
      },
      "outputs": [
        {
          "name": "stdout",
          "output_type": "stream",
          "text": [
            "Negare: -7.3\n",
            "Sumă: 10.3\n",
            "Diferență: 4.3\n",
            "Înmulțire: 21.9\n",
            "Împărțire: 2.433333333333333\n",
            "Împărțire exactă: 2.0\n",
            "Modulo: 1.2999999999999998\n",
            "Ridicare la putere: 389.017\n",
            "Deplasare la stânga: 12\n",
            "Deplasare la dreapta: 0\n"
          ]
        }
      ],
      "source": [
        "# Operatori aritmetici\n",
        "a = 7.3\n",
        "b = 3\n",
        "print(\"Negare:\", -a)\n",
        "print(\"Sumă:\", a+b)\n",
        "print(\"Diferență:\", a-b)\n",
        "print(\"Înmulțire:\", a*b)\n",
        "print(\"Împărțire:\", a/b)\n",
        "print(\"Împărțire exactă:\", a//b)\n",
        "print(\"Modulo:\", a%b)\n",
        "print(\"Ridicare la putere:\", a**b)\n",
        "print(\"Deplasare la stânga:\", b<<2) # înmulțire cu 2**2\n",
        "print(\"Deplasare la dreapta:\", b>>2) # modulor cu 2**2"
      ]
    },
    {
      "cell_type": "markdown",
      "metadata": {
        "id": "zL86onoCrayC"
      },
      "source": [
        "Atenție la precizia de reprezentare a valorilor reale:\n",
        "\n"
      ]
    },
    {
      "cell_type": "code",
      "execution_count": null,
      "metadata": {
        "colab": {
          "base_uri": "https://localhost:8080/"
        },
        "id": "Z9w17SAarYZv",
        "outputId": "72985f38-8128-4dbf-a7c3-475b47d01a7d"
      },
      "outputs": [
        {
          "data": {
            "text/plain": [
              "False"
            ]
          },
          "execution_count": 13,
          "metadata": {},
          "output_type": "execute_result"
        }
      ],
      "source": [
        "1.1 + 2.2 == 3.3"
      ]
    },
    {
      "cell_type": "code",
      "execution_count": null,
      "metadata": {
        "colab": {
          "base_uri": "https://localhost:8080/"
        },
        "id": "gLmQmb6p5k3n",
        "outputId": "0a305b61-b8a2-48d7-ae07-c14989ad52b9"
      },
      "outputs": [
        {
          "name": "stdout",
          "output_type": "stream",
          "text": [
            "Mai mic True\n",
            "Mai mare False\n",
            "Egalitate False\n",
            "Inegalitate True\n"
          ]
        }
      ],
      "source": [
        "# Operatori relaționali\n",
        "a = 2.3\n",
        "b = 3\n",
        "print(\"Mai mic\", a < b)\n",
        "print(\"Mai mare\", a > b)\n",
        "print(\"Egalitate\", a == b)\n",
        "print(\"Inegalitate\", a != b)"
      ]
    },
    {
      "cell_type": "code",
      "execution_count": null,
      "metadata": {
        "colab": {
          "base_uri": "https://localhost:8080/"
        },
        "id": "_kSTTFHO5GQx",
        "outputId": "7690901b-8324-406b-9f20-c1952281963c"
      },
      "outputs": [
        {
          "name": "stdout",
          "output_type": "stream",
          "text": [
            "Negare False\n",
            "Sau 1\n",
            "Și 0\n"
          ]
        }
      ],
      "source": [
        "# Operatori logici\n",
        "a = 1\n",
        "b = 0\n",
        "print(\"Negare\", not a)\n",
        "print(\"Sau\", a or b)\n",
        "print(\"Și\", a and b)"
      ]
    },
    {
      "cell_type": "code",
      "execution_count": null,
      "metadata": {
        "colab": {
          "base_uri": "https://localhost:8080/"
        },
        "id": "WGEq9Vig71PF",
        "outputId": "aae935f8-13d5-4558-d55d-2d658b8a9965"
      },
      "outputs": [
        {
          "data": {
            "text/plain": [
              "(False, True)"
            ]
          },
          "execution_count": 16,
          "metadata": {},
          "output_type": "execute_result"
        }
      ],
      "source": [
        "# Orice valoare diferită de zero e considerată adevărată\n",
        "not -7, not 0"
      ]
    },
    {
      "cell_type": "code",
      "execution_count": null,
      "metadata": {
        "colab": {
          "base_uri": "https://localhost:8080/"
        },
        "id": "VAJQsfzc6K4M",
        "outputId": "b7853e71-052b-47c4-e8f6-0336e38e178e"
      },
      "outputs": [
        {
          "name": "stdout",
          "output_type": "stream",
          "text": [
            "Negare -4\n",
            "Sau pe biți 7\n",
            "Și pe biți 1\n",
            "XOR pe biți 6\n"
          ]
        }
      ],
      "source": [
        "# Operatori pe biți\n",
        "a = 3 # 011\n",
        "b = 5 # 101\n",
        "print(\"Negare\", ~a) # 100\n",
        "print(\"Sau pe biți\", a|b) # 111\n",
        "print(\"Și pe biți\", a&b) # 001\n",
        "print(\"XOR pe biți\", a^b) # 110"
      ]
    },
    {
      "cell_type": "markdown",
      "metadata": {
        "id": "-HN7htOoR7QO"
      },
      "source": [
        "### <font color=\"#e8710a\">Comparații înlănțuite (chained)</font>\n",
        "\n",
        "Comparațiile înlănțuite se referă la utilizarea secvențială, în aceeași expresie a doi sau mai operatori relaționali sau de apartenență din lista:\n",
        "\n",
        "`\">\" | \"<\" | \"==\" | \">=\" | \"<=\" | \"!=\" | \"is\" [\"not\"] | [\"not\"] \"in\"`\n",
        "\n",
        "\n",
        "de exemplu:\n",
        "\n",
        "```\n",
        ">>> X < Y < Z\n",
        "True\n",
        "```\n",
        "\n",
        "Acestea ar fi echivalente cu verificarea secvențială în cadrul unei instrucțiuni `if`:\n",
        "\n",
        "```\n",
        "if  X < Y  and Y < Z:\n",
        "```\n",
        "\n",
        "Conform tabelului de mai sus privind precedența operatorilor, toți operatorii relaționali au aceeași prioritate, astfel încât se vor executa secvențial:"
      ]
    },
    {
      "cell_type": "code",
      "execution_count": null,
      "metadata": {
        "colab": {
          "base_uri": "https://localhost:8080/"
        },
        "id": "EOpqCry3qpNT",
        "outputId": "b848097f-fcd6-463a-af08-a0da0232ef80"
      },
      "outputs": [
        {
          "data": {
            "text/plain": [
              "True"
            ]
          },
          "execution_count": 18,
          "metadata": {},
          "output_type": "execute_result"
        }
      ],
      "source": [
        "1 < 2 < 3.0 < 4"
      ]
    },
    {
      "cell_type": "code",
      "execution_count": null,
      "metadata": {
        "colab": {
          "base_uri": "https://localhost:8080/"
        },
        "id": "Rx8-Yuu4q415",
        "outputId": "0ee3896c-c61f-4846-d7af-67dcfdf1a86a"
      },
      "outputs": [
        {
          "data": {
            "text/plain": [
              "False"
            ]
          },
          "execution_count": 19,
          "metadata": {},
          "output_type": "execute_result"
        }
      ],
      "source": [
        "1 > 2 > 3.0 > 4"
      ]
    },
    {
      "cell_type": "markdown",
      "metadata": {
        "id": "TcH8x5aGrPIG"
      },
      "source": [
        "Avantajul utilizării comparațiilor înlănțuite se referă la faptul că dacă oricare dintre comparații returnează o valoare de adevăr `False` restul operațiilor nu mai sunt evaluate. De asemenea, nu implică nicio relație între operatorii distanțați. De exemplu:\n",
        "\n",
        "`a < b > c`\n",
        "\n",
        "nu va spune nimic despre legătura dintre `a` și `c`.\n",
        "\n",
        "\n",
        "> **NOTĂ**: Se folosesc doar operatori relaționali sau de apartenență. Alți operatori ar putea returna rezultate ciudate:"
      ]
    },
    {
      "cell_type": "code",
      "execution_count": null,
      "metadata": {
        "colab": {
          "base_uri": "https://localhost:8080/"
        },
        "id": "THMUAicPrLK2",
        "outputId": "c4b49544-efdb-4a0b-ad14-7ed1414569f4"
      },
      "outputs": [
        {
          "data": {
            "text/plain": [
              "False"
            ]
          },
          "execution_count": 20,
          "metadata": {},
          "output_type": "execute_result"
        }
      ],
      "source": [
        "1 == 2 < 3 # Echivalent cu : 1 == 2 and 2 < 3\n",
        "# Dar nu echivalent cu: False < 3 (ce presupune 0 < 3, ceea ce e adevărat)"
      ]
    },
    {
      "cell_type": "markdown",
      "metadata": {
        "id": "nU24elWBrkBf"
      },
      "source": [
        "### <font color=\"#e8710a\">Împărțire clasică și întreagă</font>\n",
        "\n",
        "La fel ca în limbajul C/C++, în versiunile Python 2.x, operatorul de împărțire (`/`) utilizat între doi operanzi întregi returnează câtul împărțirii întregi (partea întreagă a câtului). Iar pentru cel puțin un operand de tip float, va returna câtul real al împărțirii.\n",
        "\n",
        "În versiunile Python 3.x, operatorul de împărțire va returna întotdeauna rezultatul real al împărțirii:"
      ]
    },
    {
      "cell_type": "code",
      "execution_count": null,
      "metadata": {
        "colab": {
          "base_uri": "https://localhost:8080/"
        },
        "id": "BGZNH1birfgs",
        "outputId": "ed49502b-f163-45b1-b883-c898d5ca74d1"
      },
      "outputs": [
        {
          "data": {
            "text/plain": [
              "(2.5, 2.5, -2.5, -2.5)"
            ]
          },
          "execution_count": 21,
          "metadata": {},
          "output_type": "execute_result"
        }
      ],
      "source": [
        "(5 / 2), (5 / 2.0), (5 / -2.0), (5 / -2)"
      ]
    },
    {
      "cell_type": "markdown",
      "metadata": {
        "id": "PtVAIAz09SOK"
      },
      "source": [
        "Pentru a obține doar câtul împărțirii întregi, se utilizează operatorul `//`:"
      ]
    },
    {
      "cell_type": "code",
      "execution_count": null,
      "metadata": {
        "colab": {
          "base_uri": "https://localhost:8080/"
        },
        "id": "2wLwYgJWrvgO",
        "outputId": "656098aa-86f1-4410-e803-c9298ed6b35b"
      },
      "outputs": [
        {
          "data": {
            "text/plain": [
              "(2, 2.0, -3.0, -3)"
            ]
          },
          "execution_count": 22,
          "metadata": {},
          "output_type": "execute_result"
        }
      ],
      "source": [
        "(5 // 2), (5 // 2.0), (5 // -2.0), (5 // -2)"
      ]
    },
    {
      "cell_type": "markdown",
      "metadata": {
        "id": "aavmtgjXuoUl"
      },
      "source": [
        "###<font color=\"#e8710a\">Alte tipuri de date numerice </font>\n",
        "\n",
        "**<font color=\"#1589FF\">Decimal()</font>**\n",
        "\n",
        "Permite lucrul cu valori zecimale cu precizie fixă:"
      ]
    },
    {
      "cell_type": "code",
      "execution_count": null,
      "metadata": {
        "colab": {
          "base_uri": "https://localhost:8080/"
        },
        "id": "WPjZmAQqul5n",
        "outputId": "76425b76-957c-42c5-a1b9-77989d3bfa34"
      },
      "outputs": [
        {
          "data": {
            "text/plain": [
              "Decimal('0.4')"
            ]
          },
          "execution_count": 23,
          "metadata": {},
          "output_type": "execute_result"
        }
      ],
      "source": [
        "from decimal import Decimal\n",
        "# Crearea unor obiecte de tip Decimal din șiruri de caractere\n",
        "Decimal('0.1') + Decimal('0.3')"
      ]
    },
    {
      "cell_type": "code",
      "execution_count": null,
      "metadata": {
        "colab": {
          "base_uri": "https://localhost:8080/"
        },
        "id": "XZfsXnaHuswd",
        "outputId": "e8afa5db-0b1a-41e5-b72d-a0039fc1cbd6"
      },
      "outputs": [
        {
          "data": {
            "text/plain": [
              "5.551115123125783e-17"
            ]
          },
          "execution_count": 24,
          "metadata": {},
          "output_type": "execute_result"
        }
      ],
      "source": [
        "# Au număr fix de zecimale\n",
        "0.1 + 0.1 + 0.1 - 0.3"
      ]
    },
    {
      "cell_type": "code",
      "execution_count": null,
      "metadata": {
        "colab": {
          "base_uri": "https://localhost:8080/"
        },
        "id": "5421UsEzuwic",
        "outputId": "3ede62df-6a4b-4764-8b1f-7e34498a537b"
      },
      "outputs": [
        {
          "data": {
            "text/plain": [
              "Decimal('0.1428571428571428571428571429')"
            ]
          },
          "execution_count": 25,
          "metadata": {},
          "output_type": "execute_result"
        }
      ],
      "source": [
        "# Au număr fix de zecimale\n",
        "# Implicit 28 de zecimale\n",
        "Decimal(1) / Decimal(7)"
      ]
    },
    {
      "cell_type": "code",
      "execution_count": null,
      "metadata": {
        "colab": {
          "base_uri": "https://localhost:8080/"
        },
        "id": "cqi0OEErK8WQ",
        "outputId": "a3265c4e-712e-4591-fe1c-3bc2a4f4ae83"
      },
      "outputs": [
        {
          "data": {
            "text/plain": [
              "1.1102230246251565e-16"
            ]
          },
          "execution_count": 26,
          "metadata": {},
          "output_type": "execute_result"
        }
      ],
      "source": [
        "# Spre deosebire de float\n",
        "0.2 + 0.4 - 0.6"
      ]
    },
    {
      "cell_type": "code",
      "execution_count": null,
      "metadata": {
        "colab": {
          "base_uri": "https://localhost:8080/"
        },
        "id": "LFHbmb8ku0_y",
        "outputId": "7b0ca218-1aac-40a7-c6f1-95575250ebda"
      },
      "outputs": [
        {
          "data": {
            "text/plain": [
              "Decimal('0.1429')"
            ]
          },
          "execution_count": 27,
          "metadata": {},
          "output_type": "execute_result"
        }
      ],
      "source": [
        "# Se poate stabili numărul de zecimale\n",
        "import decimal\n",
        "decimal.getcontext().prec = 4\n",
        "decimal.Decimal(1) / decimal.Decimal(7)"
      ]
    },
    {
      "cell_type": "markdown",
      "metadata": {
        "id": "qF4B_cgavEmG"
      },
      "source": [
        "**<font color=\"#1589FF\">Fraction()</font>**\n",
        "\n",
        "\n",
        "Permite lucrul cu reprezentări fracționare:"
      ]
    },
    {
      "cell_type": "code",
      "execution_count": null,
      "metadata": {
        "colab": {
          "base_uri": "https://localhost:8080/"
        },
        "id": "i43j_3PEvByv",
        "outputId": "e65ae84f-2f92-4a50-b9eb-6581b5c9c536"
      },
      "outputs": [
        {
          "data": {
            "text/plain": [
              "(Fraction(1, 2), Fraction(2, 3))"
            ]
          },
          "execution_count": 28,
          "metadata": {},
          "output_type": "execute_result"
        }
      ],
      "source": [
        "from fractions import Fraction\n",
        "a = Fraction(1, 2)\n",
        "b = Fraction(4, 6)\n",
        "a, b"
      ]
    },
    {
      "cell_type": "code",
      "execution_count": null,
      "metadata": {
        "colab": {
          "base_uri": "https://localhost:8080/"
        },
        "id": "yXJjLseUvK5N",
        "outputId": "5d5d06ea-394e-410d-964b-a6b4369f20e1"
      },
      "outputs": [
        {
          "name": "stdout",
          "output_type": "stream",
          "text": [
            "1/2 2/3\n"
          ]
        }
      ],
      "source": [
        "# Afișarea cu print() se face sub formă matematică\n",
        "print(a, b)"
      ]
    },
    {
      "cell_type": "code",
      "execution_count": null,
      "metadata": {
        "colab": {
          "base_uri": "https://localhost:8080/"
        },
        "id": "2LazSA1evPZ-",
        "outputId": "7ea16d0a-65d1-43f5-edb1-36c58f914eb9"
      },
      "outputs": [
        {
          "data": {
            "text/plain": [
              "Fraction(7, 6)"
            ]
          },
          "execution_count": 30,
          "metadata": {},
          "output_type": "execute_result"
        }
      ],
      "source": [
        "a + b"
      ]
    },
    {
      "cell_type": "code",
      "execution_count": null,
      "metadata": {
        "colab": {
          "base_uri": "https://localhost:8080/"
        },
        "id": "kK3aOHXdvQ0R",
        "outputId": "51e80efe-e6c5-447d-ddef-46cae43f9271"
      },
      "outputs": [
        {
          "data": {
            "text/plain": [
              "Fraction(-1, 6)"
            ]
          },
          "execution_count": 31,
          "metadata": {},
          "output_type": "execute_result"
        }
      ],
      "source": [
        "# Rezultatele sunt exacte\n",
        "a - b"
      ]
    },
    {
      "cell_type": "code",
      "execution_count": null,
      "metadata": {
        "colab": {
          "base_uri": "https://localhost:8080/"
        },
        "id": "18XJQWDHve2H",
        "outputId": "d18d659e-3293-4990-bee3-f5cafa70ade2"
      },
      "outputs": [
        {
          "data": {
            "text/plain": [
              "0.5"
            ]
          },
          "execution_count": 32,
          "metadata": {},
          "output_type": "execute_result"
        }
      ],
      "source": [
        "# Conversia în float\n",
        "float(a)"
      ]
    },
    {
      "cell_type": "code",
      "execution_count": null,
      "metadata": {
        "colab": {
          "base_uri": "https://localhost:8080/"
        },
        "id": "ewV-YYSSvi9z",
        "outputId": "b3d0a698-7f3f-4beb-f6df-e6e534aadf74"
      },
      "outputs": [
        {
          "data": {
            "text/plain": [
              "Fraction(3, 2)"
            ]
          },
          "execution_count": 33,
          "metadata": {},
          "output_type": "execute_result"
        }
      ],
      "source": [
        "# Conversia din float\n",
        "Fraction.from_float(1.5)"
      ]
    },
    {
      "cell_type": "markdown",
      "metadata": {
        "id": "AHGNsIKmvxxQ"
      },
      "source": [
        "**<font color=\"#1589FF\">Boolean()</font>**\n",
        "\n",
        "\n",
        "Permit lucrul cu valori de adevăr, `True/False` echivalent cu `0/1` și sunt o subclasă a tipului `int`\n"
      ]
    },
    {
      "cell_type": "code",
      "execution_count": null,
      "metadata": {
        "colab": {
          "base_uri": "https://localhost:8080/"
        },
        "id": "fNLkmEn1vwDJ",
        "outputId": "5f78e0fd-aed4-4faf-c9be-cc36d32a7357"
      },
      "outputs": [
        {
          "data": {
            "text/plain": [
              "bool"
            ]
          },
          "execution_count": 34,
          "metadata": {},
          "output_type": "execute_result"
        }
      ],
      "source": [
        "type(True)"
      ]
    },
    {
      "cell_type": "code",
      "execution_count": null,
      "metadata": {
        "colab": {
          "base_uri": "https://localhost:8080/"
        },
        "id": "fZZKnL-_v6X0",
        "outputId": "662d6a33-7ea2-4675-ec4e-dbbf269654aa"
      },
      "outputs": [
        {
          "data": {
            "text/plain": [
              "True"
            ]
          },
          "execution_count": 35,
          "metadata": {},
          "output_type": "execute_result"
        }
      ],
      "source": [
        "isinstance(True, int)"
      ]
    },
    {
      "cell_type": "code",
      "execution_count": null,
      "metadata": {
        "colab": {
          "base_uri": "https://localhost:8080/"
        },
        "id": "vGpR9Gcjv7og",
        "outputId": "38749b8c-109d-4c3d-94cc-f134cbe49e66"
      },
      "outputs": [
        {
          "data": {
            "text/plain": [
              "True"
            ]
          },
          "execution_count": 36,
          "metadata": {},
          "output_type": "execute_result"
        }
      ],
      "source": [
        "# Aceeași valoare\n",
        "True == 1"
      ]
    },
    {
      "cell_type": "code",
      "execution_count": null,
      "metadata": {
        "colab": {
          "base_uri": "https://localhost:8080/"
        },
        "id": "OHVNLyVHv-1C",
        "outputId": "922abca6-2051-49fa-ef90-b216359e1311"
      },
      "outputs": [
        {
          "data": {
            "text/plain": [
              "True"
            ]
          },
          "execution_count": 37,
          "metadata": {},
          "output_type": "execute_result"
        }
      ],
      "source": [
        "# 1 sau 0\n",
        "True or False"
      ]
    },
    {
      "cell_type": "markdown",
      "metadata": {
        "id": "AZXegR7lr6zp"
      },
      "source": [
        "###<font color=\"#e8710a\">Pachetele utile pentru lucrul cu date numerice</font>\n",
        "\n",
        "[Pachetul math](https://docs.python.org/3/library/math.html) implementează un număr foarte mare de funcții și constante matematice de bază:"
      ]
    },
    {
      "cell_type": "code",
      "execution_count": null,
      "metadata": {
        "colab": {
          "base_uri": "https://localhost:8080/"
        },
        "id": "60JNiOlfr4W3",
        "outputId": "49720a41-166f-4234-d527-7cbeef6310b6"
      },
      "outputs": [
        {
          "data": {
            "text/plain": [
              "(3.141592653589793, 2.718281828459045)"
            ]
          },
          "execution_count": 38,
          "metadata": {},
          "output_type": "execute_result"
        }
      ],
      "source": [
        "import math\n",
        "math.pi, math.e"
      ]
    },
    {
      "cell_type": "code",
      "execution_count": null,
      "metadata": {
        "colab": {
          "base_uri": "https://localhost:8080/"
        },
        "id": "U-0GAyJysCMb",
        "outputId": "4f80484f-4e3e-4dc2-da32-ad7922824625"
      },
      "outputs": [
        {
          "data": {
            "text/plain": [
              "0.03489949670250097"
            ]
          },
          "execution_count": 39,
          "metadata": {},
          "output_type": "execute_result"
        }
      ],
      "source": [
        "math.sin(2 * math.pi / 180)"
      ]
    },
    {
      "cell_type": "code",
      "execution_count": null,
      "metadata": {
        "colab": {
          "base_uri": "https://localhost:8080/"
        },
        "id": "Hg70NAYDsEhs",
        "outputId": "c502fcd9-84a0-40f6-a6eb-1ec991300b7b"
      },
      "outputs": [
        {
          "data": {
            "text/plain": [
              "(12.0, 1.4142135623730951)"
            ]
          },
          "execution_count": 40,
          "metadata": {},
          "output_type": "execute_result"
        }
      ],
      "source": [
        "math.sqrt(144), math.sqrt(2)"
      ]
    },
    {
      "cell_type": "markdown",
      "metadata": {
        "id": "n3QTVSuY_VNV"
      },
      "source": [
        "[Pachetul random](https://docs.python.org/3/library/random.html?highlight=random#module-random) este util pentru generarea de numere pseudo-aleatoare:"
      ]
    },
    {
      "cell_type": "code",
      "execution_count": null,
      "metadata": {
        "colab": {
          "base_uri": "https://localhost:8080/"
        },
        "id": "bo3bFYRUsGyt",
        "outputId": "6a6a6bb6-bb24-4cd2-86b9-66be834c513d"
      },
      "outputs": [
        {
          "data": {
            "text/plain": [
              "0.5190797258560509"
            ]
          },
          "execution_count": 41,
          "metadata": {},
          "output_type": "execute_result"
        }
      ],
      "source": [
        "import random\n",
        "#generarea unui număr aleator între 0 și 1\n",
        "random.random()"
      ]
    },
    {
      "cell_type": "code",
      "execution_count": null,
      "metadata": {
        "colab": {
          "base_uri": "https://localhost:8080/"
        },
        "id": "Ua2oci3wsNoh",
        "outputId": "49813764-cbcf-4480-97ea-bfcb02d7c30c"
      },
      "outputs": [
        {
          "data": {
            "text/plain": [
              "9"
            ]
          },
          "execution_count": 42,
          "metadata": {},
          "output_type": "execute_result"
        }
      ],
      "source": [
        "#generarea unui număr aleator între 1 și 10\n",
        "random.randint(1, 10)"
      ]
    },
    {
      "cell_type": "code",
      "execution_count": null,
      "metadata": {
        "colab": {
          "base_uri": "https://localhost:8080/",
          "height": 35
        },
        "id": "dMNv1KSMsVGI",
        "outputId": "0b2fccc5-f545-4447-8378-456e56518cdd"
      },
      "outputs": [
        {
          "data": {
            "application/vnd.google.colaboratory.intrinsic+json": {
              "type": "string"
            },
            "text/plain": [
              "'Banane'"
            ]
          },
          "execution_count": 43,
          "metadata": {},
          "output_type": "execute_result"
        }
      ],
      "source": [
        "#selecție aleatoare dintr-o listă\n",
        "random.choice(['Mere', 'Pere', 'Banane'])"
      ]
    },
    {
      "cell_type": "code",
      "execution_count": null,
      "metadata": {
        "colab": {
          "base_uri": "https://localhost:8080/"
        },
        "id": "uRQMeIrQsnMX",
        "outputId": "69275bdf-8c54-47f2-eba0-e1d8ba25c508"
      },
      "outputs": [
        {
          "data": {
            "text/plain": [
              "['romb', 'inimă neagră', 'inimă roșie', 'treflă']"
            ]
          },
          "execution_count": 44,
          "metadata": {},
          "output_type": "execute_result"
        }
      ],
      "source": [
        "# aleatorizarea unei liste\n",
        "suite = ['inimă roșie', 'treflă', 'romb', 'inimă neagră']\n",
        "random.shuffle(suite)\n",
        "suite"
      ]
    },
    {
      "cell_type": "markdown",
      "metadata": {
        "id": "JkUl-XpoBa5n"
      },
      "source": [
        "[Pachetul NumPy](https://numpy.org/) implementează o serie largă de structuri numerice multi-dimensionale și metode asociate acestora:"
      ]
    },
    {
      "cell_type": "code",
      "execution_count": null,
      "metadata": {
        "colab": {
          "base_uri": "https://localhost:8080/"
        },
        "id": "UJlviQXXBmNk",
        "outputId": "3ed618a5-e42b-41e7-fca2-7157e87e1bee"
      },
      "outputs": [
        {
          "data": {
            "text/plain": [
              "array([1, 2, 3, 4, 5, 6])"
            ]
          },
          "execution_count": 45,
          "metadata": {},
          "output_type": "execute_result"
        }
      ],
      "source": [
        "import numpy as np\n",
        "#vector\n",
        "np.array([1, 2, 3, 4, 5, 6])"
      ]
    },
    {
      "cell_type": "code",
      "execution_count": null,
      "metadata": {
        "colab": {
          "base_uri": "https://localhost:8080/"
        },
        "id": "N_CjlyB8Bulz",
        "outputId": "0c008097-66ad-463c-82e4-e969f939657e"
      },
      "outputs": [
        {
          "data": {
            "text/plain": [
              "array([[ 1,  2,  3,  4],\n",
              "       [ 5,  6,  7,  8],\n",
              "       [ 9, 10, 11, 12]])"
            ]
          },
          "execution_count": 46,
          "metadata": {},
          "output_type": "execute_result"
        }
      ],
      "source": [
        "# matrice\n",
        "np.array([[1, 2, 3, 4], [5, 6, 7, 8], [9, 10, 11, 12]])"
      ]
    },
    {
      "cell_type": "code",
      "execution_count": null,
      "metadata": {
        "colab": {
          "base_uri": "https://localhost:8080/"
        },
        "id": "lwfcwyIJB4fI",
        "outputId": "ad5b276d-4a2f-4663-e553-aee437eed851"
      },
      "outputs": [
        {
          "data": {
            "text/plain": [
              "array([2, 4, 6, 8])"
            ]
          },
          "execution_count": 47,
          "metadata": {},
          "output_type": "execute_result"
        }
      ],
      "source": [
        "# generarea unui vector cu valorile cuprinse între 2 și 9\n",
        "# incrementate din 2 în 2\n",
        "np.arange(2, 9, 2)"
      ]
    },
    {
      "cell_type": "code",
      "execution_count": null,
      "metadata": {
        "colab": {
          "base_uri": "https://localhost:8080/"
        },
        "id": "G3ctP21qCkyG",
        "outputId": "07cefb11-c043-4bcc-ff7e-5f44d58f5688"
      },
      "outputs": [
        {
          "data": {
            "text/plain": [
              "0.0966666666666666"
            ]
          },
          "execution_count": 48,
          "metadata": {},
          "output_type": "execute_result"
        }
      ],
      "source": [
        "# calcul eroare medie pătratică\n",
        "predictions = np.array([1.2, 2.3, 3.4])\n",
        "targets = np.array([1, 2, 3])\n",
        "error = (1/targets.shape[0])*np.sum(np.square(predictions-targets))\n",
        "error"
      ]
    },
    {
      "cell_type": "markdown",
      "metadata": {
        "id": "tpiI3Qe6w5Aa"
      },
      "source": [
        "##<font color=\"#e8710a\">Șiruri de caractere (String)</font>\n",
        "\n",
        "\n",
        "Șirurile de caractere (String) sunt obiecte ce conțin date de tip text sau octeți (bytes). Sunt obiecte\n",
        " **<font color=\"#e8710a\">IMUTABILE</font>** și au asociate o serie largă de funcții predefinite.\n",
        "Șirurile de caractere fac parte din clasa mai mare de obiecte de top **secvențe** (en. *sequences*).\n",
        "\n",
        "Operație | Interpretare\n",
        "--- | ---\n",
        "S = '' | String gol\n",
        "S = \"ana\" | Definire string cu ghilimele\n",
        "S = \"a\\tn\\ta\\n\" | Secvențe escape\n",
        "S = \"\"\"...multilinie...\"\"\" | String multilinie\n",
        "S1+S2 | Concatenare\n",
        "S1*2 | Repetare string\n",
        "S[i] | Indexare string\n",
        "S[i:j] | Partiționare\n",
        "len(S) | Lungime string\n",
        "S.find(ss) | Căutare substring\n",
        "S.replace(ss1, ss2) | Înlocuire substring\n",
        "S.split(delim) | Împărțire după delimitator\n",
        "S.lower() | Conversie litere minuscule\n",
        "S.upper() | Conversie litere majuscule"
      ]
    },
    {
      "cell_type": "code",
      "execution_count": null,
      "metadata": {
        "colab": {
          "base_uri": "https://localhost:8080/",
          "height": 35
        },
        "id": "_VMNQ6DCNnXG",
        "outputId": "4a5686d4-60e4-4566-f714-056561ef38f1"
      },
      "outputs": [
        {
          "data": {
            "application/vnd.google.colaboratory.intrinsic+json": {
              "type": "string"
            },
            "text/plain": [
              "'abc'"
            ]
          },
          "execution_count": 49,
          "metadata": {},
          "output_type": "execute_result"
        }
      ],
      "source": [
        "# Definirea unui string\n",
        "S = 'abc'\n",
        "S"
      ]
    },
    {
      "cell_type": "code",
      "execution_count": null,
      "metadata": {
        "colab": {
          "base_uri": "https://localhost:8080/",
          "height": 35
        },
        "id": "tISz_Jo1Nr0N",
        "outputId": "839cf595-0d61-43ba-c020-87e46f0b40d8"
      },
      "outputs": [
        {
          "data": {
            "application/vnd.google.colaboratory.intrinsic+json": {
              "type": "string"
            },
            "text/plain": [
              "'abc'"
            ]
          },
          "execution_count": 50,
          "metadata": {},
          "output_type": "execute_result"
        }
      ],
      "source": [
        "# Rezultat similar\n",
        "S = \"abc\"\n",
        "S"
      ]
    },
    {
      "cell_type": "code",
      "execution_count": null,
      "metadata": {
        "colab": {
          "base_uri": "https://localhost:8080/"
        },
        "id": "TremMyTpwBjT",
        "outputId": "4d01f061-7449-4bdd-bb91-71c7d10654c5"
      },
      "outputs": [
        {
          "data": {
            "text/plain": [
              "3"
            ]
          },
          "execution_count": 51,
          "metadata": {},
          "output_type": "execute_result"
        }
      ],
      "source": [
        "# Numărul de caractere\n",
        "len('abc')"
      ]
    },
    {
      "cell_type": "code",
      "execution_count": null,
      "metadata": {
        "colab": {
          "base_uri": "https://localhost:8080/",
          "height": 35
        },
        "id": "AIcYaJsMxPA7",
        "outputId": "4471ed7e-3c3a-4f04-80e5-cf68cc632f2b"
      },
      "outputs": [
        {
          "data": {
            "application/vnd.google.colaboratory.intrinsic+json": {
              "type": "string"
            },
            "text/plain": [
              "'abcdef'"
            ]
          },
          "execution_count": 52,
          "metadata": {},
          "output_type": "execute_result"
        }
      ],
      "source": [
        "# Concatenare string-uri\n",
        "'abc' + 'def'"
      ]
    },
    {
      "cell_type": "code",
      "execution_count": null,
      "metadata": {
        "colab": {
          "base_uri": "https://localhost:8080/",
          "height": 35
        },
        "id": "P0IVprDBxQUb",
        "outputId": "5b16b79a-77df-4cf6-dd06-603acb2e0ce6"
      },
      "outputs": [
        {
          "data": {
            "application/vnd.google.colaboratory.intrinsic+json": {
              "type": "string"
            },
            "text/plain": [
              "'hahahaha'"
            ]
          },
          "execution_count": 53,
          "metadata": {},
          "output_type": "execute_result"
        }
      ],
      "source": [
        "# Repetare, echivalent cu 'ha'+'ha'+...\n",
        "'ha' * 4"
      ]
    },
    {
      "cell_type": "code",
      "execution_count": null,
      "metadata": {
        "colab": {
          "base_uri": "https://localhost:8080/"
        },
        "id": "DFh6ptQ0xTML",
        "outputId": "451cfe52-b4a5-43d5-e227-884030ec744d"
      },
      "outputs": [
        {
          "data": {
            "text/plain": [
              "True"
            ]
          },
          "execution_count": 54,
          "metadata": {},
          "output_type": "execute_result"
        }
      ],
      "source": [
        "# Verificare apartenență\n",
        "S = \"Ana\"\n",
        "\"a\" in S"
      ]
    },
    {
      "cell_type": "code",
      "execution_count": null,
      "metadata": {
        "colab": {
          "base_uri": "https://localhost:8080/"
        },
        "id": "1RYXFy2GxZYs",
        "outputId": "ce306566-15da-4648-ec6e-6da574e64493"
      },
      "outputs": [
        {
          "data": {
            "text/plain": [
              "False"
            ]
          },
          "execution_count": 55,
          "metadata": {},
          "output_type": "execute_result"
        }
      ],
      "source": [
        "\"N\" in S # Nu există, case-sensitive"
      ]
    },
    {
      "cell_type": "code",
      "execution_count": null,
      "metadata": {
        "colab": {
          "base_uri": "https://localhost:8080/"
        },
        "id": "nU3rmgNxxbCq",
        "outputId": "ef7fc24e-9af8-4392-f2e6-51785b2bd0cd"
      },
      "outputs": [
        {
          "data": {
            "text/plain": [
              "True"
            ]
          },
          "execution_count": 56,
          "metadata": {},
          "output_type": "execute_result"
        }
      ],
      "source": [
        "# Verificare substring\n",
        "'Ana' in 'Ana are mere.'"
      ]
    },
    {
      "cell_type": "markdown",
      "metadata": {
        "id": "HNgzwGG0xjxr"
      },
      "source": [
        "###<font color=\"#e8710a\">Indexarea și partiționarea șirurilor de caractere</font>\n",
        "\n",
        "Tipurile de date de tip secvență în Python permit indexarea avansată de forma:\n",
        "\n",
        "`S[i:j:k]`\n",
        "\n",
        "unde:\n",
        "- i e indexul de început (inclusiv)\n",
        "- j e indexul de final (exclusiv)\n",
        "- k e pasul de incrementare, poate fi negativ\n"
      ]
    },
    {
      "cell_type": "code",
      "execution_count": null,
      "metadata": {
        "id": "KwCqSxqiEzCk"
      },
      "outputs": [],
      "source": [
        "S = 'Ana are mere.'"
      ]
    },
    {
      "cell_type": "code",
      "execution_count": null,
      "metadata": {
        "colab": {
          "base_uri": "https://localhost:8080/"
        },
        "id": "zp_8kwSz8b54",
        "outputId": "8c7e2e52-fa46-409d-adc6-86050e539c58"
      },
      "outputs": [
        {
          "data": {
            "text/plain": [
              "('A', 'e')"
            ]
          },
          "execution_count": 58,
          "metadata": {},
          "output_type": "execute_result"
        }
      ],
      "source": [
        "# Indexare\n",
        "S[0], S[-2]"
      ]
    },
    {
      "cell_type": "code",
      "execution_count": null,
      "metadata": {
        "colab": {
          "base_uri": "https://localhost:8080/",
          "height": 35
        },
        "id": "YFlVeudHFUcX",
        "outputId": "48dcdfcb-ad90-4e63-d414-4b422a73c7fd"
      },
      "outputs": [
        {
          "data": {
            "application/vnd.google.colaboratory.intrinsic+json": {
              "type": "string"
            },
            "text/plain": [
              "'Ana are mere.'"
            ]
          },
          "execution_count": 59,
          "metadata": {},
          "output_type": "execute_result"
        }
      ],
      "source": [
        "# Toate elementele\n",
        "S[:]"
      ]
    },
    {
      "cell_type": "code",
      "execution_count": null,
      "metadata": {
        "colab": {
          "base_uri": "https://localhost:8080/",
          "height": 35
        },
        "id": "M_BzI-2LFX32",
        "outputId": "a7e57f03-1f7f-47ee-9d60-ba3139e984bb"
      },
      "outputs": [
        {
          "data": {
            "application/vnd.google.colaboratory.intrinsic+json": {
              "type": "string"
            },
            "text/plain": [
              "'a are mere.'"
            ]
          },
          "execution_count": 60,
          "metadata": {},
          "output_type": "execute_result"
        }
      ],
      "source": [
        "# Elementele pornind de la indexul 2\n",
        "S[2:]"
      ]
    },
    {
      "cell_type": "code",
      "execution_count": null,
      "metadata": {
        "colab": {
          "base_uri": "https://localhost:8080/",
          "height": 35
        },
        "id": "GACHc3H7FdPX",
        "outputId": "ebbca6b4-fd13-40dd-b8a6-14a623a194d4"
      },
      "outputs": [
        {
          "data": {
            "application/vnd.google.colaboratory.intrinsic+json": {
              "type": "string"
            },
            "text/plain": [
              "'a a'"
            ]
          },
          "execution_count": 61,
          "metadata": {},
          "output_type": "execute_result"
        }
      ],
      "source": [
        "# Elementele pornind de la indexul 2 până la indexul 5 (exclusiv)\n",
        "S[2:5]"
      ]
    },
    {
      "cell_type": "code",
      "execution_count": null,
      "metadata": {
        "colab": {
          "base_uri": "https://localhost:8080/",
          "height": 35
        },
        "id": "IKMPU8OTE5tF",
        "outputId": "c7a091cf-e822-4772-a8e9-18f8d37b2129"
      },
      "outputs": [
        {
          "data": {
            "application/vnd.google.colaboratory.intrinsic+json": {
              "type": "string"
            },
            "text/plain": [
              "'Ana are mer'"
            ]
          },
          "execution_count": 62,
          "metadata": {},
          "output_type": "execute_result"
        }
      ],
      "source": [
        "# Elementele până la penultimul index (exclusiv)\n",
        "S[:-2]"
      ]
    },
    {
      "cell_type": "code",
      "execution_count": null,
      "metadata": {
        "colab": {
          "base_uri": "https://localhost:8080/",
          "height": 35
        },
        "id": "jFZOOr6MxviE",
        "outputId": "26a16376-3e73-4656-e046-f444a108902e"
      },
      "outputs": [
        {
          "data": {
            "application/vnd.google.colaboratory.intrinsic+json": {
              "type": "string"
            },
            "text/plain": [
              "'Aaaemr.'"
            ]
          },
          "execution_count": 63,
          "metadata": {},
          "output_type": "execute_result"
        }
      ],
      "source": [
        "# Tot al doilea caracter\n",
        "S[::2]"
      ]
    },
    {
      "cell_type": "code",
      "execution_count": null,
      "metadata": {
        "colab": {
          "base_uri": "https://localhost:8080/",
          "height": 35
        },
        "id": "USLXicK8xxvR",
        "outputId": "049feeda-ce2f-4b6d-f44c-2233dd2a7db2"
      },
      "outputs": [
        {
          "data": {
            "application/vnd.google.colaboratory.intrinsic+json": {
              "type": "string"
            },
            "text/plain": [
              "'n r ee'"
            ]
          },
          "execution_count": 64,
          "metadata": {},
          "output_type": "execute_result"
        }
      ],
      "source": [
        "# Pornind de la indexul 1, tot al doilea caracter\n",
        "S[1::2]"
      ]
    },
    {
      "cell_type": "code",
      "execution_count": null,
      "metadata": {
        "colab": {
          "base_uri": "https://localhost:8080/",
          "height": 35
        },
        "id": "_lhOdn9BxyPJ",
        "outputId": "9e2d41dc-e5db-4d29-fb44-7ee8c1f5a2a7"
      },
      "outputs": [
        {
          "data": {
            "application/vnd.google.colaboratory.intrinsic+json": {
              "type": "string"
            },
            "text/plain": [
              "'.erem era anA'"
            ]
          },
          "execution_count": 65,
          "metadata": {},
          "output_type": "execute_result"
        }
      ],
      "source": [
        "# Inversare\n",
        "S[::-1]"
      ]
    },
    {
      "cell_type": "code",
      "execution_count": null,
      "metadata": {
        "colab": {
          "base_uri": "https://localhost:8080/",
          "height": 35
        },
        "id": "bdMpmwdZx2np",
        "outputId": "af9e90a6-4fb6-421f-859e-5dbd4f90f618"
      },
      "outputs": [
        {
          "data": {
            "application/vnd.google.colaboratory.intrinsic+json": {
              "type": "string"
            },
            "text/plain": [
              "'6543'"
            ]
          },
          "execution_count": 66,
          "metadata": {},
          "output_type": "execute_result"
        }
      ],
      "source": [
        "# Indexare inversă\n",
        "S = '123456789'\n",
        "S[5:1:-1]"
      ]
    },
    {
      "cell_type": "code",
      "execution_count": null,
      "metadata": {
        "colab": {
          "base_uri": "https://localhost:8080/",
          "height": 35
        },
        "id": "fJekKLvsx8ro",
        "outputId": "fb600a7f-3054-49f1-ce66-b176400efffc"
      },
      "outputs": [
        {
          "data": {
            "application/vnd.google.colaboratory.intrinsic+json": {
              "type": "string"
            },
            "text/plain": [
              "'23'"
            ]
          },
          "execution_count": 67,
          "metadata": {},
          "output_type": "execute_result"
        }
      ],
      "source": [
        "# Alternativ putem folosi funcția slice() pentru crearea indecșilor\n",
        "S[slice(1, 3)]"
      ]
    },
    {
      "cell_type": "code",
      "execution_count": null,
      "metadata": {
        "colab": {
          "base_uri": "https://localhost:8080/",
          "height": 35
        },
        "id": "4G-80KC5yAUd",
        "outputId": "fc8ea053-7106-4aed-85c9-8cebda16b6f3"
      },
      "outputs": [
        {
          "data": {
            "application/vnd.google.colaboratory.intrinsic+json": {
              "type": "string"
            },
            "text/plain": [
              "'987654321'"
            ]
          },
          "execution_count": 68,
          "metadata": {},
          "output_type": "execute_result"
        }
      ],
      "source": [
        "S[slice(None, None, -1)]"
      ]
    },
    {
      "cell_type": "markdown",
      "metadata": {
        "id": "94-cj36jyPnD"
      },
      "source": [
        "###<font color=\"#e8710a\">Modificarea stringurilor</font>\n",
        "\n",
        "La fel ca în alte limbaje de programare în care stringurile sunt tipuri de date individuale și nu doar tablouri de caractere, în Python nu este posibilă modificarea conținutului unui element din string in-place, adică în locația curentă de memorie:\n"
      ]
    },
    {
      "cell_type": "code",
      "execution_count": null,
      "metadata": {
        "id": "0BciGgAsyS1d"
      },
      "outputs": [],
      "source": [
        "S = 'Ana'"
      ]
    },
    {
      "cell_type": "code",
      "execution_count": null,
      "metadata": {
        "colab": {
          "base_uri": "https://localhost:8080/",
          "height": 187
        },
        "id": "xqcjK7qqQpvx",
        "outputId": "055a4fa8-28fd-4f9a-b0a9-649c14ad154e"
      },
      "outputs": [
        {
          "ename": "TypeError",
          "evalue": "ignored",
          "output_type": "error",
          "traceback": [
            "\u001b[0;31m---------------------------------------------------------------------------\u001b[0m",
            "\u001b[0;31mTypeError\u001b[0m                                 Traceback (most recent call last)",
            "\u001b[0;32m<ipython-input-70-fcaeb16b7498>\u001b[0m in \u001b[0;36m<module>\u001b[0;34m\u001b[0m\n\u001b[1;32m      1\u001b[0m \u001b[0;31m# Eroare!\u001b[0m\u001b[0;34m\u001b[0m\u001b[0;34m\u001b[0m\u001b[0;34m\u001b[0m\u001b[0m\n\u001b[0;32m----> 2\u001b[0;31m \u001b[0mS\u001b[0m\u001b[0;34m[\u001b[0m\u001b[0;36m0\u001b[0m\u001b[0;34m]\u001b[0m \u001b[0;34m=\u001b[0m \u001b[0;34m'x'\u001b[0m\u001b[0;34m\u001b[0m\u001b[0;34m\u001b[0m\u001b[0m\n\u001b[0m",
            "\u001b[0;31mTypeError\u001b[0m: 'str' object does not support item assignment"
          ]
        }
      ],
      "source": [
        "# Eroare!\n",
        "S[0] = 'x'"
      ]
    },
    {
      "cell_type": "markdown",
      "metadata": {
        "id": "gVUdWfWEQDLf"
      },
      "source": [
        "Pentru a modifica un obiect de tip string, va trebui să creăm unul nou. Cu alte cuvinte, variabila S va indica o altă zonă de memorie ce conține noul string creat:"
      ]
    },
    {
      "cell_type": "code",
      "execution_count": null,
      "metadata": {
        "colab": {
          "base_uri": "https://localhost:8080/",
          "height": 71
        },
        "id": "gaYNG4swyNxo",
        "outputId": "7e35c79b-fc25-4ea8-eb8f-bc57ae233a91"
      },
      "outputs": [
        {
          "name": "stdout",
          "output_type": "stream",
          "text": [
            "Adresa referită de S: 0x7f35369733f0\n",
            "Adresa referită de S după modificare: 0x7f3536920bb0\n"
          ]
        },
        {
          "data": {
            "application/vnd.google.colaboratory.intrinsic+json": {
              "type": "string"
            },
            "text/plain": [
              "'Ana are'"
            ]
          },
          "execution_count": 71,
          "metadata": {},
          "output_type": "execute_result"
        }
      ],
      "source": [
        "S = \"Ana\"\n",
        "print(\"Adresa referită de S:\", hex(id(S)))\n",
        "S = S + ' are'\n",
        "print(\"Adresa referită de S după modificare:\", hex(id(S)))\n",
        "S"
      ]
    },
    {
      "cell_type": "code",
      "execution_count": null,
      "metadata": {
        "colab": {
          "base_uri": "https://localhost:8080/",
          "height": 35
        },
        "id": "ATHq3wa2yXZg",
        "outputId": "7e41e1f2-6710-4609-bfa9-4f0dc3dadf26"
      },
      "outputs": [
        {
          "data": {
            "application/vnd.google.colaboratory.intrinsic+json": {
              "type": "string"
            },
            "text/plain": [
              "'Ana nu are'"
            ]
          },
          "execution_count": 72,
          "metadata": {},
          "output_type": "execute_result"
        }
      ],
      "source": [
        "S = S[:3] + ' nu ' + S[-3:]\n",
        "S # Se crează un nou obiect care e atribuit variabilei S"
      ]
    },
    {
      "cell_type": "markdown",
      "metadata": {
        "id": "eSu_UcRKygPC"
      },
      "source": [
        "###<font color=\"#e8710a\">Metode ale stringurilor</font>\n",
        "\n",
        "Stringurile au asociate o multitudine de metode, iar o listă completă poate fi regăsită în [documentația oficială](https://docs.python.org/3/library/stdtypes.html#text-sequence-type-str ). În continuare vom parcurge pe scurt unele dintre cele mai des utilizate metode ale stringurilor."
      ]
    },
    {
      "cell_type": "code",
      "execution_count": null,
      "metadata": {
        "id": "qY7TAy0nyY70"
      },
      "outputs": [],
      "source": [
        "S = 'Ana și Mana'"
      ]
    },
    {
      "cell_type": "code",
      "execution_count": null,
      "metadata": {
        "colab": {
          "base_uri": "https://localhost:8080/",
          "height": 35
        },
        "id": "2-YZT7DrSzCe",
        "outputId": "5eff0538-4447-4ae9-a9ab-8ce981acad1e"
      },
      "outputs": [
        {
          "data": {
            "application/vnd.google.colaboratory.intrinsic+json": {
              "type": "string"
            },
            "text/plain": [
              "'Are și Mare'"
            ]
          },
          "execution_count": 74,
          "metadata": {},
          "output_type": "execute_result"
        }
      ],
      "source": [
        "# Înlocuim aparițiile 'na' cu 're'\n",
        "S = S.replace('na', 're')\n",
        "S"
      ]
    },
    {
      "cell_type": "code",
      "execution_count": null,
      "metadata": {
        "colab": {
          "base_uri": "https://localhost:8080/"
        },
        "id": "YEQChn0Oyndv",
        "outputId": "d5b89bba-73a1-48f7-8e6c-059639bcf24d"
      },
      "outputs": [
        {
          "data": {
            "text/plain": [
              "4"
            ]
          },
          "execution_count": 75,
          "metadata": {},
          "output_type": "execute_result"
        }
      ],
      "source": [
        "# Indexul primei apariții a substringului\n",
        "S = 'Ana are mere'\n",
        "S.find('are')"
      ]
    },
    {
      "cell_type": "code",
      "execution_count": null,
      "metadata": {
        "colab": {
          "base_uri": "https://localhost:8080/"
        },
        "id": "xS8AM4buTjpj",
        "outputId": "5abc0238-5fd2-4827-a460-3a4e62803ec9"
      },
      "outputs": [
        {
          "data": {
            "text/plain": [
              "-1"
            ]
          },
          "execution_count": 76,
          "metadata": {},
          "output_type": "execute_result"
        }
      ],
      "source": [
        "# Dacă nu apare substringul se returnează -1\n",
        "S.find(\"MA\")"
      ]
    },
    {
      "cell_type": "code",
      "execution_count": null,
      "metadata": {
        "colab": {
          "base_uri": "https://localhost:8080/"
        },
        "id": "RyhxKputyzdt",
        "outputId": "7e37cbaf-fcc1-4a30-f197-98f9b0166ee2"
      },
      "outputs": [
        {
          "data": {
            "text/plain": [
              "['Ana', 'are', 'mere']"
            ]
          },
          "execution_count": 77,
          "metadata": {},
          "output_type": "execute_result"
        }
      ],
      "source": [
        "# Împărțirea stringului după spații albe\n",
        "S = 'Ana are mere'\n",
        "S.split()"
      ]
    },
    {
      "cell_type": "code",
      "execution_count": null,
      "metadata": {
        "colab": {
          "base_uri": "https://localhost:8080/"
        },
        "id": "zXi5fNZ1UASD",
        "outputId": "9626618c-d0b1-4c67-a157-073e02f58918"
      },
      "outputs": [
        {
          "data": {
            "text/plain": [
              "['Ana', 'are', 'mere']"
            ]
          },
          "execution_count": 78,
          "metadata": {},
          "output_type": "execute_result"
        }
      ],
      "source": [
        "# Împărțire după caractere specifice\n",
        "S = 'Ana|+are|+mere'\n",
        "S.split('|+')"
      ]
    },
    {
      "cell_type": "code",
      "execution_count": null,
      "metadata": {
        "colab": {
          "base_uri": "https://localhost:8080/",
          "height": 35
        },
        "id": "EjLqvOcMy2RI",
        "outputId": "535ae356-f147-47e9-bf1f-bafeb12c46e5"
      },
      "outputs": [
        {
          "data": {
            "application/vnd.google.colaboratory.intrinsic+json": {
              "type": "string"
            },
            "text/plain": [
              "'Ana are mere!'"
            ]
          },
          "execution_count": 79,
          "metadata": {},
          "output_type": "execute_result"
        }
      ],
      "source": [
        "# Eliminare spații albe de la începutul și finalul stringului\n",
        "S = \"   Ana are mere!\\n\\t\"\n",
        "S.strip()"
      ]
    },
    {
      "cell_type": "code",
      "execution_count": null,
      "metadata": {
        "colab": {
          "base_uri": "https://localhost:8080/",
          "height": 35
        },
        "id": "7mRpGL21UZkg",
        "outputId": "4b3f503e-64d6-4d3f-95bf-04a2be2409a2"
      },
      "outputs": [
        {
          "data": {
            "application/vnd.google.colaboratory.intrinsic+json": {
              "type": "string"
            },
            "text/plain": [
              "'   Ana are mere!'"
            ]
          },
          "execution_count": 80,
          "metadata": {},
          "output_type": "execute_result"
        }
      ],
      "source": [
        "# Eliminare spații albe doar de la finalul stringului\n",
        "S = \"   Ana are mere!\\n\\t\"\n",
        "S.rstrip()"
      ]
    },
    {
      "cell_type": "code",
      "execution_count": null,
      "metadata": {
        "colab": {
          "base_uri": "https://localhost:8080/",
          "height": 35
        },
        "id": "xv5rlVat9Lo5",
        "outputId": "cf50a2e3-8a7e-43d5-cda6-b965a8d23790"
      },
      "outputs": [
        {
          "data": {
            "application/vnd.google.colaboratory.intrinsic+json": {
              "type": "string"
            },
            "text/plain": [
              "'Ana are mere!\\n\\t'"
            ]
          },
          "execution_count": 81,
          "metadata": {},
          "output_type": "execute_result"
        }
      ],
      "source": [
        "# Eliminare spații albe doar de la începutul stringului\n",
        "S = \"   Ana are mere!\\n\\t\"\n",
        "S.lstrip()"
      ]
    },
    {
      "cell_type": "code",
      "execution_count": null,
      "metadata": {
        "colab": {
          "base_uri": "https://localhost:8080/",
          "height": 35
        },
        "id": "IAnlNtdAy529",
        "outputId": "9fbd56ae-1897-4f8d-efb9-8016e1f48870"
      },
      "outputs": [
        {
          "data": {
            "application/vnd.google.colaboratory.intrinsic+json": {
              "type": "string"
            },
            "text/plain": [
              "'ANA ARE MERE'"
            ]
          },
          "execution_count": 82,
          "metadata": {},
          "output_type": "execute_result"
        }
      ],
      "source": [
        "# Capitalizare\n",
        "S = 'Ana are mere'\n",
        "S.upper()"
      ]
    },
    {
      "cell_type": "code",
      "execution_count": null,
      "metadata": {
        "colab": {
          "base_uri": "https://localhost:8080/",
          "height": 35
        },
        "id": "TIVxP1nNWvhg",
        "outputId": "9ff31dc7-75cf-4e8a-c06a-22c195235a2f"
      },
      "outputs": [
        {
          "data": {
            "application/vnd.google.colaboratory.intrinsic+json": {
              "type": "string"
            },
            "text/plain": [
              "'ana are mere'"
            ]
          },
          "execution_count": 83,
          "metadata": {},
          "output_type": "execute_result"
        }
      ],
      "source": [
        "# Litere minuscule\n",
        "S.lower()"
      ]
    },
    {
      "cell_type": "code",
      "execution_count": null,
      "metadata": {
        "colab": {
          "base_uri": "https://localhost:8080/"
        },
        "id": "-BX0F_Bny65N",
        "outputId": "4c93d670-c225-4ff8-b507-7936873214f1"
      },
      "outputs": [
        {
          "data": {
            "text/plain": [
              "True"
            ]
          },
          "execution_count": 84,
          "metadata": {},
          "output_type": "execute_result"
        }
      ],
      "source": [
        "# Verificare dacă toate elementele sunt caractere (cu excepția spațiilor goale)\n",
        "S = 'Ana'\n",
        "S.isalpha()"
      ]
    },
    {
      "cell_type": "code",
      "execution_count": null,
      "metadata": {
        "colab": {
          "base_uri": "https://localhost:8080/"
        },
        "id": "UGltyj_DVJnb",
        "outputId": "f957e3fa-0b72-488c-be8a-cae76d25e960"
      },
      "outputs": [
        {
          "data": {
            "text/plain": [
              "False"
            ]
          },
          "execution_count": 85,
          "metadata": {},
          "output_type": "execute_result"
        }
      ],
      "source": [
        "S = 'Ana are'\n",
        "S.isalpha()"
      ]
    },
    {
      "cell_type": "code",
      "execution_count": null,
      "metadata": {
        "colab": {
          "base_uri": "https://localhost:8080/"
        },
        "id": "D89AONPXVN5t",
        "outputId": "f8736727-cc79-4989-f21d-105cbc45ecc7"
      },
      "outputs": [
        {
          "data": {
            "text/plain": [
              "True"
            ]
          },
          "execution_count": 86,
          "metadata": {},
          "output_type": "execute_result"
        }
      ],
      "source": [
        "# Verificare dacă toate elementele sunt caractere sau cifre (cu excepția spațiilor goale)\n",
        "S = 'Ana12'\n",
        "S.isalnum()"
      ]
    },
    {
      "cell_type": "code",
      "execution_count": null,
      "metadata": {
        "colab": {
          "base_uri": "https://localhost:8080/",
          "height": 35
        },
        "id": "K2mAsqJvVpW-",
        "outputId": "54f28728-1c06-4f18-a360-18a2ebde5434"
      },
      "outputs": [
        {
          "data": {
            "application/vnd.google.colaboratory.intrinsic+json": {
              "type": "string"
            },
            "text/plain": [
              "'abcabca'"
            ]
          },
          "execution_count": 87,
          "metadata": {},
          "output_type": "execute_result"
        }
      ],
      "source": [
        "# Intercalare caractere specifice între elementele unei secvențe\n",
        "S = 'bc'\n",
        "S.join(\"aaa\")"
      ]
    },
    {
      "cell_type": "code",
      "execution_count": null,
      "metadata": {
        "colab": {
          "base_uri": "https://localhost:8080/",
          "height": 35
        },
        "id": "drIMNqZqV4ti",
        "outputId": "4e918c56-67f8-430b-ac4d-5bc4657d84ab"
      },
      "outputs": [
        {
          "data": {
            "application/vnd.google.colaboratory.intrinsic+json": {
              "type": "string"
            },
            "text/plain": [
              "'Ana-are-mere'"
            ]
          },
          "execution_count": 88,
          "metadata": {},
          "output_type": "execute_result"
        }
      ],
      "source": [
        "'-'.join(['Ana', 'are', 'mere'])"
      ]
    },
    {
      "cell_type": "markdown",
      "metadata": {
        "id": "s_arp9_vzAVW"
      },
      "source": [
        "###<font color=\"#e8710a\">Expresii de formatare stringuri</font>\n",
        "\n",
        "Atunci când dorim să creăm un string mai complex pe baza altor obiecte (de cele mai multe ori pentru afișare sau scriere în fișiere) putem utiliza [expresiile de formatare](https://docs.python.org/3/library/string.html#formatstrings).\n",
        "\n",
        "În cadrul acestor expresii se folosesc caractere speciale ce indică tipul de date cu care acestea vor fi înlocuite în crearea stringului final, după cum urmează:\n",
        "\n",
        "Caracter special | Tip de dată\n",
        "--- | ---\n",
        "s | String sau reprezentarea string `str()` a oricărui obiect\n",
        "r | La fel ca s dar folosește `repr()`\n",
        "c | Caracter (int sau str)\n",
        "d | Zecimal (baza 10)\n",
        "i | Întreg\n",
        "o | Octal (baza 8)\n",
        "x | Hexa (baza 16)\n",
        "e | Float cu exponent\n",
        "E | Float cu exponent capitalizat\n",
        "f | Float zecimal\n",
        "F | Float zecimal capitalizat\n",
        "g | e sau f\n",
        "G | E sau F\n",
        "% | Literalul %\n"
      ]
    },
    {
      "cell_type": "code",
      "execution_count": null,
      "metadata": {
        "colab": {
          "base_uri": "https://localhost:8080/",
          "height": 35
        },
        "id": "_uwTFgBoy-IS",
        "outputId": "8fbce164-da40-436e-94e8-78af730601da"
      },
      "outputs": [
        {
          "data": {
            "application/vnd.google.colaboratory.intrinsic+json": {
              "type": "string"
            },
            "text/plain": [
              "'Ana are 3 mere'"
            ]
          },
          "execution_count": 89,
          "metadata": {},
          "output_type": "execute_result"
        }
      ],
      "source": [
        "'%s are %i mere' % ('Ana', 3)"
      ]
    },
    {
      "cell_type": "code",
      "execution_count": null,
      "metadata": {
        "colab": {
          "base_uri": "https://localhost:8080/",
          "height": 35
        },
        "id": "HStcJ1gSzGUZ",
        "outputId": "a156bae8-0ab5-46c5-be1a-50b562080ae6"
      },
      "outputs": [
        {
          "data": {
            "application/vnd.google.colaboratory.intrinsic+json": {
              "type": "string"
            },
            "text/plain": [
              "'3.140000e+00 e o altă reprezentare pentru 3.140000'"
            ]
          },
          "execution_count": 90,
          "metadata": {},
          "output_type": "execute_result"
        }
      ],
      "source": [
        "'%e e o altă reprezentare pentru %f' %(3.14, 3.14)"
      ]
    },
    {
      "cell_type": "markdown",
      "metadata": {
        "id": "WM1qGrsNZCnT"
      },
      "source": [
        "Putem adăuga specificații suplimentare de afișare și formatare numerică:"
      ]
    },
    {
      "cell_type": "code",
      "execution_count": null,
      "metadata": {
        "colab": {
          "base_uri": "https://localhost:8080/"
        },
        "id": "asMHKS1azGyI",
        "outputId": "8aca3c63-cfc7-47ca-89f7-6d4a769577bc"
      },
      "outputs": [
        {
          "name": "stdout",
          "output_type": "stream",
          "text": [
            "1.23   |\n",
            "0001.23|\n",
            "  +1.23|\n"
          ]
        }
      ],
      "source": [
        "x = 1.23456789\n",
        "\n",
        "# Afișare pe 6 spații (completare cu spațiu gol), aliniere la stânga\n",
        "# și precizie de 2 zecimale\n",
        "print('%-7.2f|' %x)\n",
        "\n",
        "# Afișare pe 5 spații (completare cu zerouri) și precizie de 2 zecimale\n",
        "print('%07.2f|' %x)\n",
        "\n",
        "# Afișare pe 6 spații cu aliniere la dreapta cu afișarea semnului\n",
        "# și precizie de 2 zecimale\n",
        "print('%+7.2f|' %x)"
      ]
    },
    {
      "cell_type": "code",
      "execution_count": null,
      "metadata": {
        "colab": {
          "base_uri": "https://localhost:8080/",
          "height": 35
        },
        "id": "w-4e71yjZUQ5",
        "outputId": "7a273e3f-7296-480b-f6c2-a286fa96e2ba"
      },
      "outputs": [
        {
          "data": {
            "application/vnd.google.colaboratory.intrinsic+json": {
              "type": "string"
            },
            "text/plain": [
              "'                 Ana'"
            ]
          },
          "execution_count": 92,
          "metadata": {},
          "output_type": "execute_result"
        }
      ],
      "source": [
        "# Afișare pe 20 de spații cu aliniere la dreapta\n",
        "'%20s' %'Ana'"
      ]
    },
    {
      "cell_type": "code",
      "execution_count": null,
      "metadata": {
        "colab": {
          "base_uri": "https://localhost:8080/",
          "height": 35
        },
        "id": "LWtxpWWrZge3",
        "outputId": "2f31f65c-8887-439f-feec-f2df021731fc"
      },
      "outputs": [
        {
          "data": {
            "application/vnd.google.colaboratory.intrinsic+json": {
              "type": "string"
            },
            "text/plain": [
              "'Ana                  are'"
            ]
          },
          "execution_count": 93,
          "metadata": {},
          "output_type": "execute_result"
        }
      ],
      "source": [
        "# Afișare pe 20 de spații cu aliniere la stânga\n",
        "'%-20s are' %'Ana'"
      ]
    },
    {
      "cell_type": "markdown",
      "metadata": {
        "id": "RGSAnGPfzhCE"
      },
      "source": [
        "**<font color=\"#1589FF\">Metoda format()</font>**\n",
        "\n",
        "O alternativă de formatare a stringurilor este metoda `format()`. Pentru această metodă se folosește un string șablon ce conține câmpuri de înlocuire marcate cu acolade `{}`. Câmpurile de înlocuire pot fi indexate prin poziție, cheie sau o combinație a acestora:"
      ]
    },
    {
      "cell_type": "code",
      "execution_count": null,
      "metadata": {
        "colab": {
          "base_uri": "https://localhost:8080/",
          "height": 35
        },
        "id": "xORk-pvezfFm",
        "outputId": "cf194f32-2e39-46a8-dbe2-23f415e46c66"
      },
      "outputs": [
        {
          "data": {
            "application/vnd.google.colaboratory.intrinsic+json": {
              "type": "string"
            },
            "text/plain": [
              "'Ana are 3 mere'"
            ]
          },
          "execution_count": 94,
          "metadata": {},
          "output_type": "execute_result"
        }
      ],
      "source": [
        "# Indexare prin poziție\n",
        "sablon = '{0} {1} 3 {2}'\n",
        "sablon.format('Ana', 'are', 'mere')"
      ]
    },
    {
      "cell_type": "code",
      "execution_count": null,
      "metadata": {
        "colab": {
          "base_uri": "https://localhost:8080/",
          "height": 35
        },
        "id": "ZLn0fN9kzmuJ",
        "outputId": "087e9794-f18f-4c18-d7b5-4f8ccaf054a6"
      },
      "outputs": [
        {
          "data": {
            "application/vnd.google.colaboratory.intrinsic+json": {
              "type": "string"
            },
            "text/plain": [
              "'Ana are 3 mere'"
            ]
          },
          "execution_count": 95,
          "metadata": {},
          "output_type": "execute_result"
        }
      ],
      "source": [
        "# Indexare prin cheie\n",
        "sablon = '{cine} are {cate} mere'\n",
        "sablon.format(cine='Ana', cate='3')"
      ]
    },
    {
      "cell_type": "code",
      "execution_count": null,
      "metadata": {
        "colab": {
          "base_uri": "https://localhost:8080/",
          "height": 35
        },
        "id": "h0_zUSPuzpl7",
        "outputId": "7ce0e1d1-da8e-424a-b9f8-385741bf8340"
      },
      "outputs": [
        {
          "data": {
            "application/vnd.google.colaboratory.intrinsic+json": {
              "type": "string"
            },
            "text/plain": [
              "'Ana are 3 mere'"
            ]
          },
          "execution_count": 96,
          "metadata": {},
          "output_type": "execute_result"
        }
      ],
      "source": [
        "# Indexare prin poziție și cheie\n",
        "sablon = '{cine} {0} 3 {ce}'\n",
        "sablon.format('are', cine='Ana', ce='mere')"
      ]
    },
    {
      "cell_type": "code",
      "execution_count": null,
      "metadata": {
        "colab": {
          "base_uri": "https://localhost:8080/",
          "height": 35
        },
        "id": "NSv_j8NWz0J6",
        "outputId": "4ee8d919-a2de-45f5-afb5-fdaf5a2adbe0"
      },
      "outputs": [
        {
          "data": {
            "application/vnd.google.colaboratory.intrinsic+json": {
              "type": "string"
            },
            "text/plain": [
              "'Ana are 3 mere'"
            ]
          },
          "execution_count": 97,
          "metadata": {},
          "output_type": "execute_result"
        }
      ],
      "source": [
        "# Indexare prin poziție relativă\n",
        "sablon = '{} {} 3 {}'\n",
        "sablon.format('Ana', 'are', 'mere')"
      ]
    },
    {
      "cell_type": "markdown",
      "metadata": {
        "id": "P4ZTHPvQz4EN"
      },
      "source": [
        "##<font color=\"#e8710a\">Liste</font>\n",
        "\n",
        "Un alt tip de obiecte de tip secvență în Python sunt **listele**. Caracteristicile acestora pot fi sumarizate astfel:\n",
        "\n",
        "* Colecții ordonate de obiecte;\n",
        "* Accesate prin index/offset;\n",
        "* Lungime variabilă;\n",
        "* Eterogene;\n",
        "* Pot fi imbricate arbitrar;\n",
        "* <font color=\"#e8710a\">**Mutabile**</font>;\n",
        "* Echivalent cu tablouri de referințe la obiecte.\n",
        "\n",
        "Iar operațiile pe care le putem efectua asupra acestora sunt:\n",
        "\n",
        "Operație | Interpretare\n",
        "--- | ---\n",
        "L = [] | listă goală\n",
        "L = ['123', 'abc', 1.23, {}] | patru elemente\n",
        "L = ['123', ['dev', 'mgr']] | liste imbricate (nested)\n",
        "L = list('ana') | listă din elementele unui iterabil\n",
        "L = list(range(0,4) | listă de întregi succesivi\n",
        "L[i] | indexare\n",
        "L[i][j] | indexare dublă\n",
        "L[i:j] | partiționare\n",
        "len(L) | lungimea listei\n",
        "L1 + L2 | concatenare liste\n",
        "L * 3 | repetare listă\n",
        "for x in L: print (x) | iterare\n",
        "3 in L | apartenență\n",
        "L.append(elem) | adăugare element la final\n",
        "L.extend([elem1, elem2]) | extindere cu elemente multiple\n",
        "L.insert(i, elem) | inserare la poziția i\n",
        "L.index(elem) | indexul elementului\n",
        "L.count(elem) | numărarea elementelor\n",
        "L.sort() | sortare listă\n",
        "L.reverse() | inversare listă\n",
        "L.copy() | copierea elementelor\n",
        "L.clear() | ștergerea elementelor listei\n",
        "L.pop(i) | eliminarea elementului de pe poziția i\n",
        "L.remove(elem) | eliminarea elementului din listă\n",
        "del L[i] | ștergerea elementului de pe poziția i\n",
        "del L[i:j] | ștergerea elementelor de pe pozițiile i până la j-1\n"
      ]
    },
    {
      "cell_type": "code",
      "execution_count": null,
      "metadata": {
        "id": "PjLMEIYchPAl"
      },
      "outputs": [],
      "source": [
        "# Creare listă\n",
        "L = [1,2,3]"
      ]
    },
    {
      "cell_type": "code",
      "execution_count": null,
      "metadata": {
        "colab": {
          "base_uri": "https://localhost:8080/"
        },
        "id": "olh7MsBgz2y3",
        "outputId": "92e63072-1ee7-4cfe-f716-6734c891d9f5"
      },
      "outputs": [
        {
          "data": {
            "text/plain": [
              "3"
            ]
          },
          "execution_count": 99,
          "metadata": {},
          "output_type": "execute_result"
        }
      ],
      "source": [
        "# Lungimea listei\n",
        "len(L)"
      ]
    },
    {
      "cell_type": "code",
      "execution_count": null,
      "metadata": {
        "colab": {
          "base_uri": "https://localhost:8080/"
        },
        "id": "TTs68zcX09sh",
        "outputId": "bf1e5221-ddd6-4151-ee9b-af6121a0b575"
      },
      "outputs": [
        {
          "data": {
            "text/plain": [
              "[1, 2, 3, 4, 5, 6]"
            ]
          },
          "execution_count": 100,
          "metadata": {},
          "output_type": "execute_result"
        }
      ],
      "source": [
        "# Concatenare\n",
        "L + [4, 5, 6]"
      ]
    },
    {
      "cell_type": "code",
      "execution_count": null,
      "metadata": {
        "colab": {
          "base_uri": "https://localhost:8080/"
        },
        "id": "1m1ZWj-G0-1F",
        "outputId": "1a612298-4d65-4793-a389-7d06d3236abd"
      },
      "outputs": [
        {
          "data": {
            "text/plain": [
              "['ha', 'ha', 'ha', 'ha']"
            ]
          },
          "execution_count": 101,
          "metadata": {},
          "output_type": "execute_result"
        }
      ],
      "source": [
        "# Repetiție\n",
        "['ha'] * 4"
      ]
    },
    {
      "cell_type": "code",
      "execution_count": null,
      "metadata": {
        "colab": {
          "base_uri": "https://localhost:8080/"
        },
        "id": "B1NeieU30_8H",
        "outputId": "49fd1848-8a7c-4e33-8714-39c912e6b53d"
      },
      "outputs": [
        {
          "data": {
            "text/plain": [
              "True"
            ]
          },
          "execution_count": 102,
          "metadata": {},
          "output_type": "execute_result"
        }
      ],
      "source": [
        "# Verificare apartenență\n",
        "3 in L"
      ]
    },
    {
      "cell_type": "code",
      "execution_count": null,
      "metadata": {
        "colab": {
          "base_uri": "https://localhost:8080/"
        },
        "id": "VhU88YYd1Bex",
        "outputId": "9561efcb-13d2-4b3a-9df8-fa3230d60835"
      },
      "outputs": [
        {
          "name": "stdout",
          "output_type": "stream",
          "text": [
            "1 2 3 "
          ]
        }
      ],
      "source": [
        "# Iterare\n",
        "for x in L:\n",
        "  print (x, end=' ')"
      ]
    },
    {
      "cell_type": "code",
      "execution_count": null,
      "metadata": {
        "colab": {
          "base_uri": "https://localhost:8080/",
          "height": 35
        },
        "id": "7msutnN91bHb",
        "outputId": "5ec3905c-7ac2-467c-f252-7cc617def715"
      },
      "outputs": [
        {
          "data": {
            "application/vnd.google.colaboratory.intrinsic+json": {
              "type": "string"
            },
            "text/plain": [
              "'mere'"
            ]
          },
          "execution_count": 104,
          "metadata": {},
          "output_type": "execute_result"
        }
      ],
      "source": [
        "# Indexare\n",
        "L = ['Ana', 'are', 'mere']\n",
        "L[2]"
      ]
    },
    {
      "cell_type": "code",
      "execution_count": null,
      "metadata": {
        "colab": {
          "base_uri": "https://localhost:8080/",
          "height": 35
        },
        "id": "0wetAr8r1eVL",
        "outputId": "d14cbefe-6212-4b17-9d84-a34cedc0b78a"
      },
      "outputs": [
        {
          "data": {
            "application/vnd.google.colaboratory.intrinsic+json": {
              "type": "string"
            },
            "text/plain": [
              "'are'"
            ]
          },
          "execution_count": 105,
          "metadata": {},
          "output_type": "execute_result"
        }
      ],
      "source": [
        "L[-2]"
      ]
    },
    {
      "cell_type": "code",
      "execution_count": null,
      "metadata": {
        "colab": {
          "base_uri": "https://localhost:8080/"
        },
        "id": "Z0xbnDFb1g6U",
        "outputId": "dfdaf0a4-cdf1-4ffe-f299-083ab751cddc"
      },
      "outputs": [
        {
          "data": {
            "text/plain": [
              "['are', 'mere']"
            ]
          },
          "execution_count": 106,
          "metadata": {},
          "output_type": "execute_result"
        }
      ],
      "source": [
        "# Partiționare\n",
        "L[1:]"
      ]
    },
    {
      "cell_type": "code",
      "execution_count": null,
      "metadata": {
        "id": "ypvO-9XR1kO-"
      },
      "outputs": [],
      "source": [
        "# Listă imbricată (poate fi considerată matrice)\n",
        "matrice = [[1, 2, 3], [4, 5, 6], [7, 8, 9]]"
      ]
    },
    {
      "cell_type": "code",
      "execution_count": null,
      "metadata": {
        "colab": {
          "base_uri": "https://localhost:8080/"
        },
        "id": "PStWhNW21l1x",
        "outputId": "e8009e3f-c492-41b2-d422-d4317725105b"
      },
      "outputs": [
        {
          "data": {
            "text/plain": [
              "[4, 5, 6]"
            ]
          },
          "execution_count": 108,
          "metadata": {},
          "output_type": "execute_result"
        }
      ],
      "source": [
        "# Elementul de pe poziția 1 (linia din matrice)\n",
        "matrice[1]"
      ]
    },
    {
      "cell_type": "code",
      "execution_count": null,
      "metadata": {
        "colab": {
          "base_uri": "https://localhost:8080/"
        },
        "id": "PCAfqAk31nUG",
        "outputId": "ab3c4374-5384-4dd3-a115-fbe47e957069"
      },
      "outputs": [
        {
          "data": {
            "text/plain": [
              "5"
            ]
          },
          "execution_count": 109,
          "metadata": {},
          "output_type": "execute_result"
        }
      ],
      "source": [
        "# Elementul de pe poziția 1 din elementul de pe poziția 1\n",
        "matrice[1][1]"
      ]
    },
    {
      "cell_type": "code",
      "execution_count": null,
      "metadata": {
        "colab": {
          "base_uri": "https://localhost:8080/"
        },
        "id": "QkaIeUe51qlR",
        "outputId": "b8738815-08b8-449e-fb0f-135bf0db13ef"
      },
      "outputs": [
        {
          "data": {
            "text/plain": [
              "7"
            ]
          },
          "execution_count": 110,
          "metadata": {},
          "output_type": "execute_result"
        }
      ],
      "source": [
        "# Elementul de pe poziția 0 din elementul de pe poziția 2\n",
        "matrice[2][0]"
      ]
    },
    {
      "cell_type": "markdown",
      "metadata": {
        "id": "NJ6IkVnt1GNW"
      },
      "source": [
        "**<font color=\"#1589FF\">List comprehension</font>**\n",
        "\n",
        "List comprehension se referă la crearea unei liste noi prin aplicarea unor operații asupra elementelor unei alte liste. Se scrie de obicei într-o linie și poate fi extrem de utilă în crearea de noi obiecte. Folosesc instrucțiunile `for` și `if` descrise în tutorialul următor."
      ]
    },
    {
      "cell_type": "code",
      "execution_count": null,
      "metadata": {
        "colab": {
          "base_uri": "https://localhost:8080/"
        },
        "id": "f9Zh_2MC1ERq",
        "outputId": "82bf812f-66fa-4771-a071-df4e15aad9c0"
      },
      "outputs": [
        {
          "data": {
            "text/plain": [
              "['AAAA', 'NNNN', 'AAAA']"
            ]
          },
          "execution_count": 111,
          "metadata": {},
          "output_type": "execute_result"
        }
      ],
      "source": [
        "# Înmulțim fiecare caracter din 'ANA' de 4 ori\n",
        "lista = [c * 4 for c in 'ANA']\n",
        "lista"
      ]
    },
    {
      "cell_type": "code",
      "execution_count": null,
      "metadata": {
        "colab": {
          "base_uri": "https://localhost:8080/"
        },
        "id": "dGwHwgdp_nLA",
        "outputId": "140a7cf9-ae17-4718-a0f8-f88e4c77b6d8"
      },
      "outputs": [
        {
          "data": {
            "text/plain": [
              "[1, 4, 9]"
            ]
          },
          "execution_count": 112,
          "metadata": {},
          "output_type": "execute_result"
        }
      ],
      "source": [
        "# Noua listă conține doar elementele mai mari decât 0 ridicate la pătrat\n",
        "lista = [-2, -1, 0, 1, 2, 3]\n",
        "lista_noua = [n**2 for n in lista if n>0]\n",
        "lista_noua"
      ]
    },
    {
      "cell_type": "markdown",
      "metadata": {
        "id": "zNJHeGmm1wBa"
      },
      "source": [
        "###<font color=\"#e8710a\">Modificare liste in-place</font>\n",
        "\n",
        "Deoarece listele sunt obiecte mutabile, acestea pot fi modificate:"
      ]
    },
    {
      "cell_type": "code",
      "execution_count": null,
      "metadata": {
        "colab": {
          "base_uri": "https://localhost:8080/"
        },
        "id": "R8NquAxu1vWi",
        "outputId": "d31207e8-0547-43fe-ca12-c91d8606e9e2"
      },
      "outputs": [
        {
          "name": "stdout",
          "output_type": "stream",
          "text": [
            "Adresa referită de L: 0x7f353697e8c0\n",
            "Adresa referită de L după modificare: 0x7f353697e8c0\n"
          ]
        },
        {
          "data": {
            "text/plain": [
              "['Maria', 'are', 'mere']"
            ]
          },
          "execution_count": 113,
          "metadata": {},
          "output_type": "execute_result"
        }
      ],
      "source": [
        "L = ['Ana', 'are', 'mere']\n",
        "print(\"Adresa referită de L:\", hex(id(L)))\n",
        "# Modificarea unui element din listă\n",
        "L[0] = 'Maria'\n",
        "print(\"Adresa referită de L după modificare:\", hex(id(L)))\n",
        "L"
      ]
    },
    {
      "cell_type": "code",
      "execution_count": null,
      "metadata": {
        "colab": {
          "base_uri": "https://localhost:8080/"
        },
        "id": "ocsLxAeg1MbY",
        "outputId": "6f0bd59e-4046-4305-f3bb-4972bcacaa14"
      },
      "outputs": [
        {
          "data": {
            "text/plain": [
              "['Maria', 'are', 'mere', 'și', 'pere']"
            ]
          },
          "execution_count": 114,
          "metadata": {},
          "output_type": "execute_result"
        }
      ],
      "source": [
        "# Modificarea mai multor elemente/inserare\n",
        "L[2:] = ['mere','și', 'pere']\n",
        "L"
      ]
    },
    {
      "cell_type": "code",
      "execution_count": null,
      "metadata": {
        "colab": {
          "base_uri": "https://localhost:8080/"
        },
        "id": "xrX25gFE2A_X",
        "outputId": "5feb7640-836f-4ec4-e7d0-fbc56ac42b24"
      },
      "outputs": [
        {
          "data": {
            "text/plain": [
              "['Maria', 'și', 'Ana', 'are', 'mere', 'și', 'pere']"
            ]
          },
          "execution_count": 115,
          "metadata": {},
          "output_type": "execute_result"
        }
      ],
      "source": [
        "# Inserare fără înlocuire\n",
        "L[1:1] = [\"și\",  \"Ana\"]\n",
        "L"
      ]
    },
    {
      "cell_type": "code",
      "execution_count": null,
      "metadata": {
        "colab": {
          "base_uri": "https://localhost:8080/"
        },
        "id": "vgD303Bo2D4Q",
        "outputId": "e692e9f4-79ec-4f8c-b95f-0ba49ec16f3b"
      },
      "outputs": [
        {
          "data": {
            "text/plain": [
              "['Maria', 'are', 'mere', 'și', 'pere']"
            ]
          },
          "execution_count": 116,
          "metadata": {},
          "output_type": "execute_result"
        }
      ],
      "source": [
        "# Ștergere prin atribuire\n",
        "L[1:3] = []\n",
        "L"
      ]
    },
    {
      "cell_type": "markdown",
      "metadata": {
        "id": "LYjGteKt2HrU"
      },
      "source": [
        "###<font color=\"#e8710a\">Ordonarea listelor</font>\n",
        "\n",
        "Ordonarea listelor se face in-place, adică se modifică lista inițială:"
      ]
    },
    {
      "cell_type": "code",
      "execution_count": null,
      "metadata": {
        "colab": {
          "base_uri": "https://localhost:8080/"
        },
        "id": "lcPnahWz2Kh5",
        "outputId": "15e8ee13-4a67-40ae-ae8b-b5915f9e2954"
      },
      "outputs": [
        {
          "data": {
            "text/plain": [
              "['ABD', 'aBe', 'abc']"
            ]
          },
          "execution_count": 117,
          "metadata": {},
          "output_type": "execute_result"
        }
      ],
      "source": [
        "L = ['abc', 'ABD', 'aBe']\n",
        "L.sort()\n",
        "L"
      ]
    },
    {
      "cell_type": "code",
      "execution_count": null,
      "metadata": {
        "colab": {
          "base_uri": "https://localhost:8080/"
        },
        "id": "gOdGnxVz2MTc",
        "outputId": "36a7828b-9b80-4ee6-db14-29dfb62573c4"
      },
      "outputs": [
        {
          "data": {
            "text/plain": [
              "['abc', 'ABD', 'aBe']"
            ]
          },
          "execution_count": 118,
          "metadata": {},
          "output_type": "execute_result"
        }
      ],
      "source": [
        "L = ['abc', 'ABD', 'aBe']\n",
        "# Sortare după elementele capitalizate\n",
        "L.sort(key=str.upper)\n",
        "L"
      ]
    },
    {
      "cell_type": "code",
      "execution_count": null,
      "metadata": {
        "colab": {
          "base_uri": "https://localhost:8080/"
        },
        "id": "PlcTll2D2P49",
        "outputId": "78902fb5-1d61-4898-ae69-027aa92439bb"
      },
      "outputs": [
        {
          "data": {
            "text/plain": [
              "['aBe', 'ABD', 'abc']"
            ]
          },
          "execution_count": 119,
          "metadata": {},
          "output_type": "execute_result"
        }
      ],
      "source": [
        "L = ['abc', 'ABD', 'aBe']\n",
        "# Sortare după elementele capitalizate și inversarea sortării\n",
        "L.sort(key=str.lower, reverse=True)\n",
        "L"
      ]
    },
    {
      "cell_type": "markdown",
      "metadata": {
        "id": "imNSuwOK2UGa"
      },
      "source": [
        "**<font color=\"#1589FF\">Alte metode ale listelor</font>**"
      ]
    },
    {
      "cell_type": "code",
      "execution_count": null,
      "metadata": {
        "colab": {
          "base_uri": "https://localhost:8080/"
        },
        "id": "S9tuXE122R_9",
        "outputId": "62bdff75-469b-4274-82dd-05be0711fb0b"
      },
      "outputs": [
        {
          "data": {
            "text/plain": [
              "[1, 2, 3, 4, 5]"
            ]
          },
          "execution_count": 120,
          "metadata": {},
          "output_type": "execute_result"
        }
      ],
      "source": [
        "L = [1, 2]\n",
        "# Extinderea listei\n",
        "L.extend([3, 4, 5])\n",
        "L"
      ]
    },
    {
      "cell_type": "code",
      "execution_count": null,
      "metadata": {
        "colab": {
          "base_uri": "https://localhost:8080/"
        },
        "id": "jsWyN31G2Xhj",
        "outputId": "32d5505c-c56b-4bb0-e343-90cfc0cd4762"
      },
      "outputs": [
        {
          "data": {
            "text/plain": [
              "(5, [1, 2, 3, 4])"
            ]
          },
          "execution_count": 121,
          "metadata": {},
          "output_type": "execute_result"
        }
      ],
      "source": [
        "# Ștergerea și returnarea ultimului element din listă\n",
        "elem = L.pop()\n",
        "elem, L"
      ]
    },
    {
      "cell_type": "code",
      "execution_count": null,
      "metadata": {
        "colab": {
          "base_uri": "https://localhost:8080/"
        },
        "id": "YlNYu9532rUT",
        "outputId": "e554d740-77ea-4324-dd3f-c757dc10a560"
      },
      "outputs": [
        {
          "data": {
            "text/plain": [
              "(2, [1, 3, 4])"
            ]
          },
          "execution_count": 122,
          "metadata": {},
          "output_type": "execute_result"
        }
      ],
      "source": [
        "# Ștergerea și returnarea unui element de pe o anumită poziție\n",
        "elem = L.pop(1)\n",
        "elem, L"
      ]
    },
    {
      "cell_type": "code",
      "execution_count": null,
      "metadata": {
        "colab": {
          "base_uri": "https://localhost:8080/"
        },
        "id": "bQwu2DIf2cPB",
        "outputId": "d8f3b909-34e6-4235-ab73-f6d749f6833b"
      },
      "outputs": [
        {
          "data": {
            "text/plain": [
              "[4, 3, 1]"
            ]
          },
          "execution_count": 123,
          "metadata": {},
          "output_type": "execute_result"
        }
      ],
      "source": [
        "# Inversarea listei in-place\n",
        "L.reverse()\n",
        "L"
      ]
    },
    {
      "cell_type": "code",
      "execution_count": null,
      "metadata": {
        "colab": {
          "base_uri": "https://localhost:8080/"
        },
        "id": "0k9p1lIY2jYv",
        "outputId": "22fedfd1-db33-4ae0-a4b4-ad5b9f573156"
      },
      "outputs": [
        {
          "data": {
            "text/plain": [
              "1"
            ]
          },
          "execution_count": 124,
          "metadata": {},
          "output_type": "execute_result"
        }
      ],
      "source": [
        "# Indexul unui element\n",
        "L = ['Ana', 'are', 'mere']\n",
        "L.index('are')"
      ]
    },
    {
      "cell_type": "code",
      "execution_count": null,
      "metadata": {
        "colab": {
          "base_uri": "https://localhost:8080/"
        },
        "id": "YrO4r2iT2mpG",
        "outputId": "df756a54-2860-4e58-d205-0069db62aefb"
      },
      "outputs": [
        {
          "data": {
            "text/plain": [
              "['Ana', 'nu', 'are', 'mere']"
            ]
          },
          "execution_count": 125,
          "metadata": {},
          "output_type": "execute_result"
        }
      ],
      "source": [
        "# Inserarea la o anumită poziție\n",
        "L.insert(1, 'nu')\n",
        "L"
      ]
    },
    {
      "cell_type": "code",
      "execution_count": null,
      "metadata": {
        "colab": {
          "base_uri": "https://localhost:8080/"
        },
        "id": "nVjjWRhm2qIg",
        "outputId": "8b80e624-7333-41f7-efd8-16b538a8e8cd"
      },
      "outputs": [
        {
          "data": {
            "text/plain": [
              "['Ana', 'are', 'mere']"
            ]
          },
          "execution_count": 126,
          "metadata": {},
          "output_type": "execute_result"
        }
      ],
      "source": [
        "# Ștergerea după valoare\n",
        "L.remove('nu')\n",
        "L"
      ]
    },
    {
      "cell_type": "code",
      "execution_count": null,
      "metadata": {
        "colab": {
          "base_uri": "https://localhost:8080/"
        },
        "id": "aFSSbxV82t66",
        "outputId": "92c6795c-30dc-48a7-e5ce-94a892611fe7"
      },
      "outputs": [
        {
          "data": {
            "text/plain": [
              "2"
            ]
          },
          "execution_count": 127,
          "metadata": {},
          "output_type": "execute_result"
        }
      ],
      "source": [
        "L = [1,2,3,4,1,2,3]\n",
        "# Numarul de apariții a unui element\n",
        "L.count(1)"
      ]
    },
    {
      "cell_type": "code",
      "execution_count": null,
      "metadata": {
        "colab": {
          "base_uri": "https://localhost:8080/"
        },
        "id": "wOAFXynI2vUA",
        "outputId": "8f31e261-0641-4945-a315-b07c881ffbe2"
      },
      "outputs": [
        {
          "data": {
            "text/plain": [
              "['are', 'mere']"
            ]
          },
          "execution_count": 128,
          "metadata": {},
          "output_type": "execute_result"
        }
      ],
      "source": [
        "# Ștergerea unui element din listă\n",
        "L = ['Ana', 'are', 'mere']\n",
        "del L[0]\n",
        "L"
      ]
    },
    {
      "cell_type": "code",
      "execution_count": null,
      "metadata": {
        "colab": {
          "base_uri": "https://localhost:8080/"
        },
        "id": "ex-67Dj82yPb",
        "outputId": "e11b7144-63c6-42c5-fb5a-9789339c5c78"
      },
      "outputs": [
        {
          "data": {
            "text/plain": [
              "['are']"
            ]
          },
          "execution_count": 129,
          "metadata": {},
          "output_type": "execute_result"
        }
      ],
      "source": [
        "# Ștergerea unei partiții din listă\n",
        "del L[1:]\n",
        "L"
      ]
    },
    {
      "cell_type": "markdown",
      "metadata": {
        "id": "yyepydH8stV4"
      },
      "source": [
        "##<font color=\"#e8710a\">Seturi</font>\n",
        "\n",
        "Tipul de date *set* în Python sunt echivalentul seturilor din matematică. Astfel că, un set va implementa o colecție neordonată de obiecte unice. Sunt permise operații asociate din matematică: reuniune, intersecție, diferență, etc.\n",
        "\n",
        "Seturile în Python sunt mutabile, însă obiectele conținute trebuie neapărat să fie imutabile. Un set poate conține obiecte de tip diferit (eterogene)."
      ]
    },
    {
      "cell_type": "code",
      "execution_count": null,
      "metadata": {
        "colab": {
          "base_uri": "https://localhost:8080/"
        },
        "id": "XcsTuJFzsvPy",
        "outputId": "476f4d59-419d-4995-866e-e5917c463acd"
      },
      "outputs": [
        {
          "data": {
            "text/plain": [
              "{1, 2, 3, 4}"
            ]
          },
          "execution_count": 130,
          "metadata": {},
          "output_type": "execute_result"
        }
      ],
      "source": [
        "# definirea unui set pe baza unei liste\n",
        "set([1, 2, 3, 4, 3])"
      ]
    },
    {
      "cell_type": "code",
      "execution_count": null,
      "metadata": {
        "colab": {
          "base_uri": "https://localhost:8080/"
        },
        "id": "r6TMMF5Fs3mE",
        "outputId": "c37f615e-930b-4cf7-de64-d59d331059b3"
      },
      "outputs": [
        {
          "data": {
            "text/plain": [
              "{'a', 'l', 's', 't', 'u'}"
            ]
          },
          "execution_count": 131,
          "metadata": {},
          "output_type": "execute_result"
        }
      ],
      "source": [
        "# definirea unui set pe baza unui șir de caractere\n",
        "S = set('salut')\n",
        "S"
      ]
    },
    {
      "cell_type": "markdown",
      "metadata": {
        "id": "5e6zVYf6EDmL"
      },
      "source": [
        "Se poate observa faptul că ordinea de stocare a elementelor nu este identică cu cea în care acestea au fost adăugate în set (colecție neordonată)."
      ]
    },
    {
      "cell_type": "code",
      "execution_count": null,
      "metadata": {
        "colab": {
          "base_uri": "https://localhost:8080/"
        },
        "id": "G5vfpaB9s6aH",
        "outputId": "beaa7bfc-176d-4966-b06b-c23ef540d971"
      },
      "outputs": [
        {
          "data": {
            "text/plain": [
              "{123, 3.14, 'a', 'l', 's', 't', 'u'}"
            ]
          },
          "execution_count": 132,
          "metadata": {},
          "output_type": "execute_result"
        }
      ],
      "source": [
        "# adăugarea unui nou obiect în set\n",
        "S.add(123)\n",
        "S.add(3.14)\n",
        "S"
      ]
    },
    {
      "cell_type": "markdown",
      "metadata": {
        "id": "Ldgb_DqGtCkb"
      },
      "source": [
        "###<font color=\"#e8710a\">Operații cu seturi</font>"
      ]
    },
    {
      "cell_type": "code",
      "execution_count": null,
      "metadata": {
        "colab": {
          "base_uri": "https://localhost:8080/"
        },
        "id": "kBHFRjtPs85t",
        "outputId": "4c0f0626-07ca-4b34-8cfa-19868d8ebb5c"
      },
      "outputs": [
        {
          "data": {
            "text/plain": [
              "{1, 3}"
            ]
          },
          "execution_count": 133,
          "metadata": {},
          "output_type": "execute_result"
        }
      ],
      "source": [
        "# Intersecție\n",
        "S = {1, 2, 3, 4}\n",
        "S & {1, 3}"
      ]
    },
    {
      "cell_type": "code",
      "execution_count": null,
      "metadata": {
        "colab": {
          "base_uri": "https://localhost:8080/"
        },
        "id": "O4EeQOOStKHF",
        "outputId": "1776fa8c-465d-4979-9c8b-a7c998ca1e77"
      },
      "outputs": [
        {
          "data": {
            "text/plain": [
              "{1, 2, 3, 4, 5, 6}"
            ]
          },
          "execution_count": 134,
          "metadata": {},
          "output_type": "execute_result"
        }
      ],
      "source": [
        "# Reuniune\n",
        "{1, 5, 6} | S"
      ]
    },
    {
      "cell_type": "code",
      "execution_count": null,
      "metadata": {
        "colab": {
          "base_uri": "https://localhost:8080/"
        },
        "id": "xjXIK6eftL7x",
        "outputId": "1852dcca-5305-4e95-b956-1f9fea62fc55"
      },
      "outputs": [
        {
          "data": {
            "text/plain": [
              "{4}"
            ]
          },
          "execution_count": 135,
          "metadata": {},
          "output_type": "execute_result"
        }
      ],
      "source": [
        "# Diferență\n",
        "S - {1, 2, 3}"
      ]
    },
    {
      "cell_type": "code",
      "execution_count": null,
      "metadata": {
        "colab": {
          "base_uri": "https://localhost:8080/"
        },
        "id": "-Pjm2K6AtNoi",
        "outputId": "2f76e928-d8e2-47e5-d419-ef9b2a629b06"
      },
      "outputs": [
        {
          "data": {
            "text/plain": [
              "True"
            ]
          },
          "execution_count": 136,
          "metadata": {},
          "output_type": "execute_result"
        }
      ],
      "source": [
        "# Incluziune\n",
        "S > {1, 3} # Superset"
      ]
    },
    {
      "cell_type": "code",
      "execution_count": null,
      "metadata": {
        "id": "LHz26TFgtTSF"
      },
      "outputs": [],
      "source": [
        "# Inițializarea unui set gol\n",
        "S = set()"
      ]
    },
    {
      "cell_type": "markdown",
      "metadata": {
        "id": "fSmMzUk8tqPz"
      },
      "source": [
        "###<font color=\"#e8710a\">Exemple de utilizare a seturilor</font>"
      ]
    },
    {
      "cell_type": "code",
      "execution_count": null,
      "metadata": {
        "colab": {
          "base_uri": "https://localhost:8080/"
        },
        "id": "ux3kPTM9tnzn",
        "outputId": "17f4afd8-28c4-41f3-9e40-70f45830accb"
      },
      "outputs": [
        {
          "data": {
            "text/plain": [
              "{1, 2, 3, 4, 5}"
            ]
          },
          "execution_count": 138,
          "metadata": {},
          "output_type": "execute_result"
        }
      ],
      "source": [
        "# Crearea unui set pornind de la o listă\n",
        "L = [1, 2, 1, 3, 2, 4, 5]\n",
        "set(L)"
      ]
    },
    {
      "cell_type": "code",
      "execution_count": null,
      "metadata": {
        "colab": {
          "base_uri": "https://localhost:8080/"
        },
        "id": "YsCKvC50tvrG",
        "outputId": "de3f0227-9bcc-4c38-8b12-1729b8e09fc6"
      },
      "outputs": [
        {
          "data": {
            "text/plain": [
              "['c', 'd', 'b', 'a']"
            ]
          },
          "execution_count": 139,
          "metadata": {},
          "output_type": "execute_result"
        }
      ],
      "source": [
        "# Eliminarea obiectelor duplicate dintr-o listă\n",
        "# Ordinea obiectelor se poate modifica\n",
        "L = list(set(['a', 'b', 'c', 'a', 'd', 'b']))\n",
        "L"
      ]
    },
    {
      "cell_type": "code",
      "execution_count": null,
      "metadata": {
        "colab": {
          "base_uri": "https://localhost:8080/"
        },
        "id": "A_4Aq202t2JP",
        "outputId": "e05a0c4f-c04f-4161-bbcc-64bd204ad601"
      },
      "outputs": [
        {
          "data": {
            "text/plain": [
              "{3, 7}"
            ]
          },
          "execution_count": 140,
          "metadata": {},
          "output_type": "execute_result"
        }
      ],
      "source": [
        "# Elementele diferite din două liste\n",
        "set([1, 3, 5, 7]) - set([1, 2, 4, 5, 6])"
      ]
    },
    {
      "cell_type": "code",
      "execution_count": null,
      "metadata": {
        "colab": {
          "base_uri": "https://localhost:8080/"
        },
        "id": "DFre3HrJt5Bv",
        "outputId": "b47d8533-52b6-44d3-bf65-0aebe7527e24"
      },
      "outputs": [
        {
          "data": {
            "text/plain": [
              "{'c', 'e', 'f'}"
            ]
          },
          "execution_count": 141,
          "metadata": {},
          "output_type": "execute_result"
        }
      ],
      "source": [
        "# Elementele diferite din două șiruri de caractere\n",
        "set('abcdefg') - set('abdghij')"
      ]
    },
    {
      "cell_type": "code",
      "execution_count": null,
      "metadata": {
        "colab": {
          "base_uri": "https://localhost:8080/"
        },
        "id": "kQdhpIP4t8Sf",
        "outputId": "df2e8bad-cad5-420c-f953-2ba251ec184e"
      },
      "outputs": [
        {
          "data": {
            "text/plain": [
              "True"
            ]
          },
          "execution_count": 142,
          "metadata": {},
          "output_type": "execute_result"
        }
      ],
      "source": [
        "# Verificarea egalității setului de elemente din două liste\n",
        "L1 = [1,2,3]\n",
        "L2 = [3,2,1]\n",
        "set(L1) == set(L2)"
      ]
    },
    {
      "cell_type": "code",
      "execution_count": null,
      "metadata": {
        "colab": {
          "base_uri": "https://localhost:8080/"
        },
        "id": "XggHqjo7uC4G",
        "outputId": "c4b4757f-520a-427a-aa43-66ccb5407c96"
      },
      "outputs": [
        {
          "data": {
            "text/plain": [
              "[1, 2, 3]"
            ]
          },
          "execution_count": 143,
          "metadata": {},
          "output_type": "execute_result"
        }
      ],
      "source": [
        "# Ordonarea unui set\n",
        "sorted(set(L2))"
      ]
    },
    {
      "cell_type": "markdown",
      "metadata": {
        "id": "7Cr5jsM1uemE"
      },
      "source": [
        "###<font color=\"#e8710a\">Frozen sets</font>\n",
        "\n",
        "Seturile sunt obiecte mutabile, iar în anumite cazuri acest fapt limitează utilizarea lor. Pentru a crea un set imutabil, se poate crea un așa numit *frozenset*. Restul caracteristicilor și a operațiilor asociate unui set rămân la fel.\n"
      ]
    },
    {
      "cell_type": "code",
      "execution_count": null,
      "metadata": {
        "colab": {
          "base_uri": "https://localhost:8080/"
        },
        "id": "kzGGwBWjuc-Q",
        "outputId": "02239754-9dce-4f99-a298-121318a8cf76"
      },
      "outputs": [
        {
          "data": {
            "text/plain": [
              "frozenset({1, 2, 3, 4, 5})"
            ]
          },
          "execution_count": 144,
          "metadata": {},
          "output_type": "execute_result"
        }
      ],
      "source": [
        "S = (1, 2, 3, 4, 5)\n",
        "FS = frozenset(S)\n",
        "FS"
      ]
    },
    {
      "cell_type": "markdown",
      "metadata": {
        "id": "N5SMRc3923Ia"
      },
      "source": [
        "##<font color=\"#e8710a\">Dicționare</font>\n",
        "\n",
        "Listele sunt un instrument util de gestionare a colecțiilor eterogene de obiecte ce pot fi indexate după poziția lor în listă. Însă în anumite cazuri este util să putem indexa elementele unei colecții de obiecte folsind o anumită cheie. Dicționarele în Python permit acest lucru și pot fi caracterizate prin:\n",
        "\n",
        "* Cel mai flexibil tip de date\n",
        "* Folosesc funcții hash pentru a indexa elementele dicționarului;\n",
        "* Elementele sunt indexate prin **cheie**, nu index;\n",
        "* Cheile trebuie să fie unice și **hashable** (orice obiect imutabil, precum int, string, boolean, tuplu este hashable);\n",
        "* <font color=\"#e8710a\">Mutabile</font>\n",
        "* Colecții **neordonate**;\n",
        "* Lungime variabilă;\n",
        "* Eterogene;\n",
        "* Imbricate arbitrar;\n",
        "* Tabele de referințe la obiecte (hash);\n",
        "* Nu implementeaz[ metode ale tipurilor secvență, au metodele proprii.\n",
        "\n",
        "Începând cu Python 3.7, dicționarele rețin ordinea de inserție a elementelor.\n",
        "\n",
        "\n",
        "Operație | Interpretare\n",
        "--- | ---\n",
        "D = {} | Dicționar gol\n",
        "D = {'nume':'Maria', 'prenume':'Popescu'} | Dicționar cu 2 elemente\n",
        "D = {'nume':'Maria', 'note':{'mate':10, 'info':10} | Dicționar imbricat\n",
        "D = dict(nume='Maria', prenume='Popescu') | Definire alternativă\n",
        "D = dict([('nume', 'Maria'), ('prenume', 'Popescu')]) | Definire alternativă\n",
        "D = dict.fromkeys(['nume', 'prenume']) | Definire chei\n",
        "D = dict(zip(listachei, listavalori)) | Definire alternativă\n",
        "D['nume'] | Indexare după cheie\n",
        "D['note']['mate'] | Indexare imbricată după cheie\n",
        "'note' in D | Verificare apartenență cheie\n",
        "D.keys() | Listă chei\n",
        "D.values() | Listă valori\n",
        "D.items() | Tuplu de chei și valori\n",
        "D.copy() | Copiere\n",
        "D.clear() | Ștergerea tuturor elementelor\n",
        "D.update(D2) | Reuniune după chei\n",
        "D.get(cheie, default?) | Extragere după cheie cu valoare default în cazul în care nu există cheia\n",
        "D.pop(cheie, default?) | Eliminare după cheie cu valoare default în cazul în care nu există cheia\n",
        "len(D) | Numărul de elemente\n",
        "D[cheie] = val | Atribuire valoare la cheie\n",
        "del D[cheie] | Ștergere după cheie\n",
        "D = { k:k+2 for k in [1,2,3,4]} | Dictionary comprehension\n",
        "\n",
        "\n",
        "Să vedem și câteva exemple practice de utilizare a dicționarelor:\n"
      ]
    },
    {
      "cell_type": "code",
      "execution_count": null,
      "metadata": {
        "id": "j2i6h4o021Pv"
      },
      "outputs": [],
      "source": [
        "# Creare dicționar\n",
        "D = {'mere': 2, 'pere': 3, 'portocale': 4}"
      ]
    },
    {
      "cell_type": "code",
      "execution_count": null,
      "metadata": {
        "colab": {
          "base_uri": "https://localhost:8080/"
        },
        "id": "p1gKc8rs3Ulo",
        "outputId": "64f379e5-786a-46f9-ff9b-568ffc309235"
      },
      "outputs": [
        {
          "data": {
            "text/plain": [
              "3"
            ]
          },
          "execution_count": 146,
          "metadata": {},
          "output_type": "execute_result"
        }
      ],
      "source": [
        "# Indexare după cheie\n",
        "D['pere']"
      ]
    },
    {
      "cell_type": "code",
      "execution_count": null,
      "metadata": {
        "colab": {
          "base_uri": "https://localhost:8080/"
        },
        "id": "CYhAWub23V-X",
        "outputId": "3b1db32a-4952-4a87-95f1-084312a686ba"
      },
      "outputs": [
        {
          "data": {
            "text/plain": [
              "{'mere': 2, 'pere': 3, 'portocale': 4}"
            ]
          },
          "execution_count": 147,
          "metadata": {},
          "output_type": "execute_result"
        }
      ],
      "source": [
        "# Conținutul dicționarului\n",
        "D"
      ]
    },
    {
      "cell_type": "code",
      "execution_count": null,
      "metadata": {
        "colab": {
          "base_uri": "https://localhost:8080/"
        },
        "id": "TRoCaDYX3X9O",
        "outputId": "c2307d2a-d399-460c-8929-127188525e42"
      },
      "outputs": [
        {
          "data": {
            "text/plain": [
              "3"
            ]
          },
          "execution_count": 148,
          "metadata": {},
          "output_type": "execute_result"
        }
      ],
      "source": [
        "# Numărul de elemente din dicționar\n",
        "len(D)"
      ]
    },
    {
      "cell_type": "code",
      "execution_count": null,
      "metadata": {
        "colab": {
          "base_uri": "https://localhost:8080/"
        },
        "id": "UCYW_6oL3bfe",
        "outputId": "468fdd17-70df-45b5-e6ad-4df8ff3655d7"
      },
      "outputs": [
        {
          "data": {
            "text/plain": [
              "True"
            ]
          },
          "execution_count": 149,
          "metadata": {},
          "output_type": "execute_result"
        }
      ],
      "source": [
        "# Verificare apartenență\n",
        "'portocale' in D"
      ]
    },
    {
      "cell_type": "code",
      "execution_count": null,
      "metadata": {
        "colab": {
          "base_uri": "https://localhost:8080/"
        },
        "id": "VCNBXCkp3c2G",
        "outputId": "25eab5e3-9a32-4034-d959-565134e32c5a"
      },
      "outputs": [
        {
          "data": {
            "text/plain": [
              "['mere', 'pere', 'portocale']"
            ]
          },
          "execution_count": 150,
          "metadata": {},
          "output_type": "execute_result"
        }
      ],
      "source": [
        "# Crearea unei liste din cheile dicționarului\n",
        "list(D.keys())"
      ]
    },
    {
      "cell_type": "code",
      "execution_count": null,
      "metadata": {
        "colab": {
          "base_uri": "https://localhost:8080/"
        },
        "id": "FfuQ0jKqSnLa",
        "outputId": "6697057c-7b8d-4af8-e3a0-fc9dd9cf5d38"
      },
      "outputs": [
        {
          "data": {
            "text/plain": [
              "['mere', 'pere', 'portocale']"
            ]
          },
          "execution_count": 151,
          "metadata": {},
          "output_type": "execute_result"
        }
      ],
      "source": [
        "# Alternativ\n",
        "list(D)"
      ]
    },
    {
      "cell_type": "code",
      "execution_count": null,
      "metadata": {
        "colab": {
          "base_uri": "https://localhost:8080/"
        },
        "id": "mETJJfR13ebY",
        "outputId": "612678c4-e7a6-496e-ad55-38380d46b70c"
      },
      "outputs": [
        {
          "data": {
            "text/plain": [
              "{'mere': 2, 'pere': ['galbene', 'verzi', 'mov'], 'portocale': 4}"
            ]
          },
          "execution_count": 152,
          "metadata": {},
          "output_type": "execute_result"
        }
      ],
      "source": [
        "# Modificarea unui element\n",
        "D['pere'] = ['galbene', 'verzi', 'mov']\n",
        "D"
      ]
    },
    {
      "cell_type": "code",
      "execution_count": null,
      "metadata": {
        "colab": {
          "base_uri": "https://localhost:8080/"
        },
        "id": "NcbV1MmJ3jSX",
        "outputId": "064a2a3d-76af-4945-a5a0-54829ce63d08"
      },
      "outputs": [
        {
          "data": {
            "text/plain": [
              "{'pere': ['galbene', 'verzi', 'mov'], 'portocale': 4}"
            ]
          },
          "execution_count": 153,
          "metadata": {},
          "output_type": "execute_result"
        }
      ],
      "source": [
        "# Ștergerea unui element\n",
        "del D['mere']\n",
        "D"
      ]
    },
    {
      "cell_type": "code",
      "execution_count": null,
      "metadata": {
        "colab": {
          "base_uri": "https://localhost:8080/"
        },
        "id": "B6fV8PUC3lIu",
        "outputId": "6f2503c8-6334-4c2a-c2f7-92641daccc63"
      },
      "outputs": [
        {
          "data": {
            "text/plain": [
              "{'pere': ['galbene', 'verzi', 'mov'], 'portocale': 4, 'banane': 7}"
            ]
          },
          "execution_count": 154,
          "metadata": {},
          "output_type": "execute_result"
        }
      ],
      "source": [
        "# Adăugarea unui element\n",
        "D['banane'] = 7\n",
        "D"
      ]
    },
    {
      "cell_type": "code",
      "execution_count": null,
      "metadata": {
        "colab": {
          "base_uri": "https://localhost:8080/"
        },
        "id": "aU_KLA1y3nAi",
        "outputId": "beffd2c5-2fb2-4248-81db-4ffa165f4740"
      },
      "outputs": [
        {
          "data": {
            "text/plain": [
              "[['galbene', 'verzi', 'mov'], 4, 7]"
            ]
          },
          "execution_count": 155,
          "metadata": {},
          "output_type": "execute_result"
        }
      ],
      "source": [
        "# Lista de valori din dicționar\n",
        "list(D.values())"
      ]
    },
    {
      "cell_type": "code",
      "execution_count": null,
      "metadata": {
        "colab": {
          "base_uri": "https://localhost:8080/"
        },
        "id": "8VonxcrB3pZy",
        "outputId": "326626e5-2925-46bf-e59c-55017132c235"
      },
      "outputs": [
        {
          "data": {
            "text/plain": [
              "[('pere', ['galbene', 'verzi', 'mov']), ('portocale', 4), ('banane', 7)]"
            ]
          },
          "execution_count": 156,
          "metadata": {},
          "output_type": "execute_result"
        }
      ],
      "source": [
        "# Tuplu chei-valori\n",
        "list(D.items())"
      ]
    },
    {
      "cell_type": "markdown",
      "metadata": {
        "id": "AW-CiRSc4AIT"
      },
      "source": [
        "###<font color=\"#e8710a\">Dicționare imbricate</font>"
      ]
    },
    {
      "cell_type": "code",
      "execution_count": null,
      "metadata": {
        "id": "hosGOWFE3q60"
      },
      "outputs": [],
      "source": [
        "D = {'prenume': 'Maria',\n",
        "     'nume': ['Popescu', 'Ionescu'],\n",
        "     'note': {'mate': 10, 'info': 10}}"
      ]
    },
    {
      "cell_type": "code",
      "execution_count": null,
      "metadata": {
        "colab": {
          "base_uri": "https://localhost:8080/"
        },
        "id": "_80bV5nm3wga",
        "outputId": "8c0c7715-efbc-471f-f3be-e189e6cfc7b2"
      },
      "outputs": [
        {
          "data": {
            "text/plain": [
              "['Popescu', 'Ionescu']"
            ]
          },
          "execution_count": 158,
          "metadata": {},
          "output_type": "execute_result"
        }
      ],
      "source": [
        "D['nume']"
      ]
    },
    {
      "cell_type": "code",
      "execution_count": null,
      "metadata": {
        "colab": {
          "base_uri": "https://localhost:8080/",
          "height": 35
        },
        "id": "fwxIb6Qw3zie",
        "outputId": "05a4bfdb-ecd5-49ff-8538-25d10247555d"
      },
      "outputs": [
        {
          "data": {
            "application/vnd.google.colaboratory.intrinsic+json": {
              "type": "string"
            },
            "text/plain": [
              "'a'"
            ]
          },
          "execution_count": 159,
          "metadata": {},
          "output_type": "execute_result"
        }
      ],
      "source": [
        "D['prenume'][1]"
      ]
    },
    {
      "cell_type": "code",
      "execution_count": null,
      "metadata": {
        "colab": {
          "base_uri": "https://localhost:8080/"
        },
        "id": "Ucu-7VRv30p-",
        "outputId": "53352840-4931-45aa-bbe6-49ab7d53ab1e"
      },
      "outputs": [
        {
          "data": {
            "text/plain": [
              "10"
            ]
          },
          "execution_count": 160,
          "metadata": {},
          "output_type": "execute_result"
        }
      ],
      "source": [
        "D['note']['info']"
      ]
    },
    {
      "cell_type": "markdown",
      "metadata": {
        "id": "ycrWl1-84DVu"
      },
      "source": [
        "###<font color=\"#e8710a\"><font color=\"#1589FF\">Alte metode de creare a dicționarelor</font>"
      ]
    },
    {
      "cell_type": "code",
      "execution_count": null,
      "metadata": {
        "colab": {
          "base_uri": "https://localhost:8080/"
        },
        "id": "HZkkunpmUH8a",
        "outputId": "09e1a1e4-368d-4b75-b903-23a05ab679da"
      },
      "outputs": [
        {
          "data": {
            "text/plain": [
              "{'prenume': 'Maria', 'nume': 'Popescu'}"
            ]
          },
          "execution_count": 161,
          "metadata": {},
          "output_type": "execute_result"
        }
      ],
      "source": [
        "# Definirea dinamică a cheilor\n",
        "D = {}\n",
        "D['prenume'] = 'Maria'\n",
        "D['nume'] = 'Popescu'\n",
        "D"
      ]
    },
    {
      "cell_type": "code",
      "execution_count": null,
      "metadata": {
        "colab": {
          "base_uri": "https://localhost:8080/"
        },
        "id": "L5gfcV6234Vo",
        "outputId": "7ac31e5b-cb3f-49b8-83ca-2d3938fa29f5"
      },
      "outputs": [
        {
          "data": {
            "text/plain": [
              "{'nume': 'Maria', 'prenume': 'Popescu'}"
            ]
          },
          "execution_count": 162,
          "metadata": {},
          "output_type": "execute_result"
        }
      ],
      "source": [
        "# Definire prin argumente keyword\n",
        "D = dict(nume='Maria', prenume='Popescu')\n",
        "D"
      ]
    },
    {
      "cell_type": "code",
      "execution_count": null,
      "metadata": {
        "colab": {
          "base_uri": "https://localhost:8080/"
        },
        "id": "C2kJ5wcoUomX",
        "outputId": "8f442fa0-6a5a-4a00-9b9e-092af4f15abf"
      },
      "outputs": [
        {
          "data": {
            "text/plain": [
              "{'nume': 'Maria', 'prenume': 'Popescu'}"
            ]
          },
          "execution_count": 163,
          "metadata": {},
          "output_type": "execute_result"
        }
      ],
      "source": [
        "# Definire prin tuplu cheie-valoare\n",
        "D = dict([('nume', 'Maria'), ('prenume', 'Popescu')])\n",
        "D"
      ]
    },
    {
      "cell_type": "code",
      "execution_count": null,
      "metadata": {
        "colab": {
          "base_uri": "https://localhost:8080/"
        },
        "id": "FaD3wZow340p",
        "outputId": "842ce5ab-8343-4de6-9d68-79da229fec7a"
      },
      "outputs": [
        {
          "data": {
            "text/plain": [
              "{'mere': 0, 'pere': 0}"
            ]
          },
          "execution_count": 164,
          "metadata": {},
          "output_type": "execute_result"
        }
      ],
      "source": [
        "# Creare pe baza cheilor\n",
        "D = dict.fromkeys(['mere', 'pere'], 0)\n",
        "D"
      ]
    },
    {
      "cell_type": "code",
      "execution_count": null,
      "metadata": {
        "colab": {
          "base_uri": "https://localhost:8080/"
        },
        "id": "H699NUuO38Qk",
        "outputId": "c3511c68-18fc-47b1-fab2-d2f701ed3cd7"
      },
      "outputs": [
        {
          "data": {
            "text/plain": [
              "{'mere': 2, 'pere': 3, 'portocale': 4}"
            ]
          },
          "execution_count": 165,
          "metadata": {},
          "output_type": "execute_result"
        }
      ],
      "source": [
        "# Creare folosind funcția zip()\n",
        "D = dict(zip(['mere', 'pere', 'portocale'], [2, 3, 4]))\n",
        "D"
      ]
    },
    {
      "cell_type": "code",
      "execution_count": null,
      "metadata": {
        "colab": {
          "base_uri": "https://localhost:8080/"
        },
        "id": "Iv8f7lOm4Ne8",
        "outputId": "266bb65f-df6e-4048-8fb7-65a305b34d14"
      },
      "outputs": [
        {
          "name": "stdout",
          "output_type": "stream",
          "text": [
            "mere 2\n",
            "pere 3\n",
            "portocale 4\n"
          ]
        }
      ],
      "source": [
        "# Afișare ordonată după chei\n",
        "for k in sorted(D):\n",
        "  print(k, D[k])"
      ]
    },
    {
      "cell_type": "markdown",
      "metadata": {
        "id": "DmgNrIAL4SYH"
      },
      "source": [
        "##<font color=\"#e8710a\">Tupluri</font>\n",
        "\n",
        "Tuplurile, la o primă vedere, reprezintă o alternativă imutabilă a listelor în Python. Însă utilizarea lor este diferită în programele Python și sunt mult mai eficiente din punct de vedere al utilizării memoriei. Pe scurt, tuplurile sunt:\n",
        "\n",
        "\n",
        "* Colecții ordonate de obiecte;\n",
        "* Accesate prin offset (index);\n",
        "* <font color=\"#e8710a\">**Imutabile**</font>;\n",
        "* Lungime fixă;\n",
        "* Eterogene;\n",
        "* Pot fi imbricate;\n",
        "* Tablouri de referințe la obiecte.\n",
        "\n",
        "\n",
        "Operație | Interpretare\n",
        "--- | ---\n",
        "() | Tuplu gol\n",
        "T = ('a','b') | Tuplu cu două elemente\n",
        "T = 'a', 'b' | Identic cu linia anterioară\n",
        "T = ('a', ('b','c')) | Tuplu imbricat\n",
        "T = tuple('a') | Creare tuplu\n",
        "T[i] | Indexare tuplu\n",
        "T[i][j] | Indexare tuplu imbricat\n",
        "T[i:j] | Partiționare\n",
        "len(T) | Numărul de elemente\n",
        "T1+T2 | Concatenare\n",
        "T*2 | Repetare\n",
        "'a' in T | Verificare apartenență\n",
        "T.search('a') | Indexul unui element\n",
        "T.count('a') | Numărul de apariții al elementului"
      ]
    },
    {
      "cell_type": "code",
      "execution_count": null,
      "metadata": {
        "colab": {
          "base_uri": "https://localhost:8080/"
        },
        "id": "Yj6CnHrB4QaN",
        "outputId": "bec199c4-afd9-4acc-8d92-2b52dd3966cf"
      },
      "outputs": [
        {
          "data": {
            "text/plain": [
              "('a', 'b', 'c', 'd')"
            ]
          },
          "execution_count": 167,
          "metadata": {},
          "output_type": "execute_result"
        }
      ],
      "source": [
        "# Creare tuplu\n",
        "T = ('a', 'b', 'c', 'd')\n",
        "T"
      ]
    },
    {
      "cell_type": "code",
      "execution_count": null,
      "metadata": {
        "colab": {
          "base_uri": "https://localhost:8080/"
        },
        "id": "XXOEoBfCY3Qu",
        "outputId": "5cd0e3f5-7c13-4dc2-d82b-a54201fa3694"
      },
      "outputs": [
        {
          "data": {
            "text/plain": [
              "('b', 'a')"
            ]
          },
          "execution_count": 168,
          "metadata": {},
          "output_type": "execute_result"
        }
      ],
      "source": [
        "# Creare tuplu din listă\n",
        "T = tuple(['b','a'])\n",
        "T"
      ]
    },
    {
      "cell_type": "code",
      "execution_count": null,
      "metadata": {
        "colab": {
          "base_uri": "https://localhost:8080/"
        },
        "id": "zvxYUO9j4vum",
        "outputId": "c666a9a7-340e-454c-bcce-cabb7811876a"
      },
      "outputs": [
        {
          "data": {
            "text/plain": [
              "['a', 'b']"
            ]
          },
          "execution_count": 169,
          "metadata": {},
          "output_type": "execute_result"
        }
      ],
      "source": [
        "# Ordonare tuplu\n",
        "sorted(T)"
      ]
    },
    {
      "cell_type": "markdown",
      "metadata": {
        "id": "PunZrsXv4y9W"
      },
      "source": [
        "**<font color=\"#1589FF\">Named tuples</font>**\n",
        "\n",
        "O extensie utilă a tuplurilor sunt tuplurile denumite (en. *named tuples*), în cadrul cărora se poate utiliza o cheie pentru indexarea elementelor. Deși similare cu dicționarele, tuplurile denumite sunt **imutabile**.\n",
        "\n",
        "Tuplurile denumite sunt parte din modulul `collections` și nu sunt tipuri de date built-in."
      ]
    },
    {
      "cell_type": "code",
      "execution_count": null,
      "metadata": {
        "colab": {
          "base_uri": "https://localhost:8080/"
        },
        "id": "ZyCT9uw14xC_",
        "outputId": "609aafc7-fdea-4c3a-cad1-0e964b953e77"
      },
      "outputs": [
        {
          "data": {
            "text/plain": [
              "Rec(prenume='Maria', nume='Popescu', varsta=19)"
            ]
          },
          "execution_count": 170,
          "metadata": {},
          "output_type": "execute_result"
        }
      ],
      "source": [
        "from collections import namedtuple\n",
        "Rec = namedtuple('Rec', ['prenume', 'nume', 'varsta'])\n",
        "maria = Rec('Maria', 'Popescu', 19)\n",
        "maria"
      ]
    },
    {
      "cell_type": "code",
      "execution_count": null,
      "metadata": {
        "colab": {
          "base_uri": "https://localhost:8080/"
        },
        "id": "jtx_z2q_436l",
        "outputId": "f0f81437-d073-4363-d422-a8323d5a7c93"
      },
      "outputs": [
        {
          "data": {
            "text/plain": [
              "('Maria', 19)"
            ]
          },
          "execution_count": 171,
          "metadata": {},
          "output_type": "execute_result"
        }
      ],
      "source": [
        "# Accesare prin index\n",
        "maria[0], maria[2]"
      ]
    },
    {
      "cell_type": "code",
      "execution_count": null,
      "metadata": {
        "colab": {
          "base_uri": "https://localhost:8080/"
        },
        "id": "QWL31ObH45lr",
        "outputId": "fd7ab39e-3f4a-47a3-e403-15652ec9acb5"
      },
      "outputs": [
        {
          "data": {
            "text/plain": [
              "('Popescu', 'Maria')"
            ]
          },
          "execution_count": 172,
          "metadata": {},
          "output_type": "execute_result"
        }
      ],
      "source": [
        "# Accesare prin atribut/cheie\n",
        "maria.nume, maria.prenume"
      ]
    },
    {
      "cell_type": "markdown",
      "metadata": {
        "id": "_uAfRO__SF3J"
      },
      "source": [
        "##<font color=\"#e8710a\">Conversii de tip (cast)</font>\n",
        "\n",
        "Conversia explicită a unui obiect la un alt tip de dată este posibilă folosind funcțiile built-in asociate datelor fundamentale. Conversia este realizată doar dacă se respectă formatul tipului de date țintă."
      ]
    },
    {
      "cell_type": "code",
      "execution_count": null,
      "metadata": {
        "colab": {
          "base_uri": "https://localhost:8080/",
          "height": 35
        },
        "id": "v-Tg5dKp4K0X",
        "outputId": "dddb9d98-f1eb-451e-bdfd-7f22cdd7ca5d"
      },
      "outputs": [
        {
          "data": {
            "application/vnd.google.colaboratory.intrinsic+json": {
              "type": "string"
            },
            "text/plain": [
              "'12'"
            ]
          },
          "execution_count": 173,
          "metadata": {},
          "output_type": "execute_result"
        }
      ],
      "source": [
        "# Conversie int la string\n",
        "S = str(12)\n",
        "S"
      ]
    },
    {
      "cell_type": "code",
      "execution_count": null,
      "metadata": {
        "colab": {
          "base_uri": "https://localhost:8080/",
          "height": 35
        },
        "id": "Xd43MGhf4O-v",
        "outputId": "38cba99e-5ddc-4f3b-e636-fa520cdc19ec"
      },
      "outputs": [
        {
          "data": {
            "application/vnd.google.colaboratory.intrinsic+json": {
              "type": "string"
            },
            "text/plain": [
              "'3.14'"
            ]
          },
          "execution_count": 174,
          "metadata": {},
          "output_type": "execute_result"
        }
      ],
      "source": [
        "# Conversie float la string\n",
        "S = str(3.14)\n",
        "S"
      ]
    },
    {
      "cell_type": "code",
      "execution_count": null,
      "metadata": {
        "colab": {
          "base_uri": "https://localhost:8080/"
        },
        "id": "AEU84kla4YcS",
        "outputId": "62c594e2-21cd-448b-8a25-624f08a925cb"
      },
      "outputs": [
        {
          "data": {
            "text/plain": [
              "12"
            ]
          },
          "execution_count": 175,
          "metadata": {},
          "output_type": "execute_result"
        }
      ],
      "source": [
        "# Conversie string la int\n",
        "i = int('12')\n",
        "i"
      ]
    },
    {
      "cell_type": "code",
      "execution_count": null,
      "metadata": {
        "colab": {
          "base_uri": "https://localhost:8080/"
        },
        "id": "M4mqJiMH4ckK",
        "outputId": "339df70d-718d-45a2-b675-6aba5585de98"
      },
      "outputs": [
        {
          "data": {
            "text/plain": [
              "(3.14, 1000.0)"
            ]
          },
          "execution_count": 176,
          "metadata": {},
          "output_type": "execute_result"
        }
      ],
      "source": [
        "# Conversie string la float\n",
        "f1 = float('3.14')\n",
        "f2 = float('10e2')\n",
        "f1, f2"
      ]
    },
    {
      "cell_type": "code",
      "execution_count": null,
      "metadata": {
        "colab": {
          "base_uri": "https://localhost:8080/",
          "height": 187
        },
        "id": "b3pB6lHW4kyt",
        "outputId": "6d7c3537-4f23-4e1e-99f7-b26d94899619"
      },
      "outputs": [
        {
          "ename": "ValueError",
          "evalue": "ignored",
          "output_type": "error",
          "traceback": [
            "\u001b[0;31m---------------------------------------------------------------------------\u001b[0m",
            "\u001b[0;31mValueError\u001b[0m                                Traceback (most recent call last)",
            "\u001b[0;32m<ipython-input-177-3f624c312617>\u001b[0m in \u001b[0;36m<module>\u001b[0;34m\u001b[0m\n\u001b[1;32m      1\u001b[0m \u001b[0;31m# Eroare la conversie\u001b[0m\u001b[0;34m\u001b[0m\u001b[0;34m\u001b[0m\u001b[0;34m\u001b[0m\u001b[0m\n\u001b[0;32m----> 2\u001b[0;31m \u001b[0mi\u001b[0m \u001b[0;34m=\u001b[0m \u001b[0mint\u001b[0m\u001b[0;34m(\u001b[0m\u001b[0;34m'3.14'\u001b[0m\u001b[0;34m)\u001b[0m\u001b[0;34m\u001b[0m\u001b[0;34m\u001b[0m\u001b[0m\n\u001b[0m",
            "\u001b[0;31mValueError\u001b[0m: invalid literal for int() with base 10: '3.14'"
          ]
        }
      ],
      "source": [
        "# Eroare la conversie\n",
        "i = int('3.14')"
      ]
    },
    {
      "cell_type": "markdown",
      "metadata": {
        "id": "Bm3W0ZY86FKS"
      },
      "source": [
        "Anumite conversii de tip sunt realizate implicit atunci când apar diferite tipuri de date în expresii. Conversia se face întotdeauna către tipul de date mai larg, doar dacă acest lucru este posibil:"
      ]
    },
    {
      "cell_type": "code",
      "execution_count": null,
      "metadata": {
        "colab": {
          "base_uri": "https://localhost:8080/"
        },
        "id": "QiiDycCs6N8D",
        "outputId": "3696ebea-4434-43a9-a9fc-66c304217574"
      },
      "outputs": [
        {
          "data": {
            "text/plain": [
              "float"
            ]
          },
          "execution_count": 178,
          "metadata": {},
          "output_type": "execute_result"
        }
      ],
      "source": [
        "# Conversie implicită la float\n",
        "a = 3\n",
        "b = 3.14\n",
        "type(a + b)"
      ]
    },
    {
      "cell_type": "code",
      "execution_count": null,
      "metadata": {
        "colab": {
          "base_uri": "https://localhost:8080/",
          "height": 204
        },
        "id": "Qripa2_E6hfX",
        "outputId": "e71abf06-732a-4bbd-a005-a6c91b35824e"
      },
      "outputs": [
        {
          "ename": "TypeError",
          "evalue": "ignored",
          "output_type": "error",
          "traceback": [
            "\u001b[0;31m---------------------------------------------------------------------------\u001b[0m",
            "\u001b[0;31mTypeError\u001b[0m                                 Traceback (most recent call last)",
            "\u001b[0;32m<ipython-input-179-f015462efda6>\u001b[0m in \u001b[0;36m<module>\u001b[0;34m\u001b[0m\n\u001b[1;32m      2\u001b[0m \u001b[0ma\u001b[0m \u001b[0;34m=\u001b[0m \u001b[0;34m'3'\u001b[0m\u001b[0;34m\u001b[0m\u001b[0;34m\u001b[0m\u001b[0m\n\u001b[1;32m      3\u001b[0m \u001b[0mb\u001b[0m \u001b[0;34m=\u001b[0m \u001b[0;36m3.14\u001b[0m\u001b[0;34m\u001b[0m\u001b[0;34m\u001b[0m\u001b[0m\n\u001b[0;32m----> 4\u001b[0;31m \u001b[0ma\u001b[0m \u001b[0;34m+\u001b[0m \u001b[0mb\u001b[0m\u001b[0;34m\u001b[0m\u001b[0;34m\u001b[0m\u001b[0m\n\u001b[0m",
            "\u001b[0;31mTypeError\u001b[0m: can only concatenate str (not \"float\") to str"
          ]
        }
      ],
      "source": [
        "# Eroare\n",
        "a = '3'\n",
        "b = 3.14\n",
        "a + b"
      ]
    },
    {
      "cell_type": "markdown",
      "metadata": {
        "id": "1iuMNpIj9fEI"
      },
      "source": [
        "##<font color=\"#e8710a\">Alte tipuri de date</font>\n",
        "\n",
        "Python mai oferă o gamă foarte largă de tipuri de date disponibile prin modulele sale.\n",
        "\n",
        "**[Dată/timp](https://docs.python.org/3/library/datetime.html)**"
      ]
    },
    {
      "cell_type": "code",
      "execution_count": null,
      "metadata": {
        "colab": {
          "base_uri": "https://localhost:8080/"
        },
        "id": "Geq--gSi_TYW",
        "outputId": "ac5905a1-9bc5-4ee6-e5ff-8c5bbe509bbf"
      },
      "outputs": [
        {
          "data": {
            "text/plain": [
              "datetime.date(2022, 8, 12)"
            ]
          },
          "execution_count": 180,
          "metadata": {},
          "output_type": "execute_result"
        }
      ],
      "source": [
        "# Crearea unui obiect dată\n",
        "from datetime import date\n",
        "date.fromisoformat('2022-08-12')"
      ]
    },
    {
      "cell_type": "code",
      "execution_count": null,
      "metadata": {
        "colab": {
          "base_uri": "https://localhost:8080/"
        },
        "id": "lXrLxOyK_ZJg",
        "outputId": "0ef5b3e0-aaa5-4242-fbd0-4c2281f944c0"
      },
      "outputs": [
        {
          "data": {
            "text/plain": [
              "datetime.date(2022, 8, 26)"
            ]
          },
          "execution_count": 181,
          "metadata": {},
          "output_type": "execute_result"
        }
      ],
      "source": [
        "# Modificarea zilei\n",
        "d = date(2022, 8, 12)\n",
        "d.replace(day=26)"
      ]
    },
    {
      "cell_type": "code",
      "execution_count": null,
      "metadata": {
        "colab": {
          "base_uri": "https://localhost:8080/",
          "height": 35
        },
        "id": "iHcws7Xl_h0C",
        "outputId": "c6d6e400-0474-4c7d-9c22-5363496dc671"
      },
      "outputs": [
        {
          "data": {
            "application/vnd.google.colaboratory.intrinsic+json": {
              "type": "string"
            },
            "text/plain": [
              "'Fri Aug 12 00:00:00 2022'"
            ]
          },
          "execution_count": 182,
          "metadata": {},
          "output_type": "execute_result"
        }
      ],
      "source": [
        "# Afișare în format extins\n",
        "d.ctime()"
      ]
    },
    {
      "cell_type": "code",
      "execution_count": null,
      "metadata": {
        "colab": {
          "base_uri": "https://localhost:8080/",
          "height": 35
        },
        "id": "L5L-azmN_t0Q",
        "outputId": "a17b0d12-fd5e-48c6-8ea6-c8a357016bd3"
      },
      "outputs": [
        {
          "data": {
            "application/vnd.google.colaboratory.intrinsic+json": {
              "type": "string"
            },
            "text/plain": [
              "'Wed Aug 24 00:00:00 2022'"
            ]
          },
          "execution_count": 183,
          "metadata": {},
          "output_type": "execute_result"
        }
      ],
      "source": [
        "# Azi\n",
        "date.today().ctime()"
      ]
    },
    {
      "cell_type": "code",
      "execution_count": null,
      "metadata": {
        "colab": {
          "base_uri": "https://localhost:8080/",
          "height": 35
        },
        "id": "4eLAQTph_7DI",
        "outputId": "93ad0f5b-871d-44f4-c0a2-d5081b7dbbf9"
      },
      "outputs": [
        {
          "data": {
            "application/vnd.google.colaboratory.intrinsic+json": {
              "type": "string"
            },
            "text/plain": [
              "'12/08/22'"
            ]
          },
          "execution_count": 184,
          "metadata": {},
          "output_type": "execute_result"
        }
      ],
      "source": [
        "# Formatare dată\n",
        "d.strftime(\"%d/%m/%y\")"
      ]
    },
    {
      "cell_type": "code",
      "execution_count": null,
      "metadata": {
        "colab": {
          "base_uri": "https://localhost:8080/"
        },
        "id": "LbcuViIlACbY",
        "outputId": "b0e4cad5-4aee-4b57-b4a2-ec708935bc68"
      },
      "outputs": [
        {
          "data": {
            "text/plain": [
              "datetime.datetime(2022, 8, 12, 12, 5, 23)"
            ]
          },
          "execution_count": 185,
          "metadata": {},
          "output_type": "execute_result"
        }
      ],
      "source": [
        "# Creare obiect dată-timp\n",
        "from datetime import datetime\n",
        "datetime.fromisoformat('2022-08-12T12:05:23')"
      ]
    },
    {
      "cell_type": "code",
      "execution_count": null,
      "metadata": {
        "colab": {
          "base_uri": "https://localhost:8080/",
          "height": 35
        },
        "id": "G0UPINkhAQCM",
        "outputId": "e49d9a4b-cd01-41d9-d069-feeb1b4c239e"
      },
      "outputs": [
        {
          "data": {
            "application/vnd.google.colaboratory.intrinsic+json": {
              "type": "string"
            },
            "text/plain": [
              "'Wed Aug 24 14:45:49 2022'"
            ]
          },
          "execution_count": 186,
          "metadata": {},
          "output_type": "execute_result"
        }
      ],
      "source": [
        "# Data și ora curentă\n",
        "datetime.now().ctime()"
      ]
    },
    {
      "cell_type": "code",
      "execution_count": null,
      "metadata": {
        "colab": {
          "base_uri": "https://localhost:8080/",
          "height": 35
        },
        "id": "vYyMpsTLAogg",
        "outputId": "594116b4-4ac3-4a38-ce94-8ca7c9b12809"
      },
      "outputs": [
        {
          "data": {
            "application/vnd.google.colaboratory.intrinsic+json": {
              "type": "string"
            },
            "text/plain": [
              "'Sat Sep  3 14:45:50 2022'"
            ]
          },
          "execution_count": 187,
          "metadata": {},
          "output_type": "execute_result"
        }
      ],
      "source": [
        "# Peste 10 zile\n",
        "from datetime import timedelta\n",
        "(datetime.now()+ timedelta(days=10)).ctime()"
      ]
    },
    {
      "cell_type": "markdown",
      "metadata": {
        "id": "cr8N3Zbv5sp0"
      },
      "source": [
        "**[Colecții](https://docs.python.org/3/library/collections.html)** - oferă alternative la tipurile de date built-in dicționar, listă, set și tuplu."
      ]
    },
    {
      "cell_type": "code",
      "execution_count": null,
      "metadata": {
        "colab": {
          "base_uri": "https://localhost:8080/"
        },
        "id": "n3462SMI98BH",
        "outputId": "bab7bfe4-579b-4441-8eaf-139dbfe17cac"
      },
      "outputs": [
        {
          "data": {
            "text/plain": [
              "2"
            ]
          },
          "execution_count": 188,
          "metadata": {},
          "output_type": "execute_result"
        }
      ],
      "source": [
        "# Counter() e un dicționar ce numără aparițiile elementelor\n",
        "from collections import Counter\n",
        "c = Counter()\n",
        "c = Counter(['a','b','a','c','b'])\n",
        "c['a']"
      ]
    },
    {
      "cell_type": "markdown",
      "metadata": {
        "id": "Div97vTassKs"
      },
      "source": [
        "---\n",
        "##<font color=\"#e8710a\">Concluzii</font>\n",
        "\n",
        "În acest tutorial am parcurs tipurile de date fundamentale disponibile în Python și am văzut modul în care acestea pot fi create, modificate și cum se aplică metodele implicite ale acestora."
      ]
    },
    {
      "cell_type": "markdown",
      "metadata": {
        "id": "yf4UaQFjstfE"
      },
      "source": [
        "---\n",
        "##<font color=\"#1589FF\"> Exerciții</font>\n",
        "1)  Să se definească două obiecte de tip float și să se afișeze suma, diferența, produsul și câtul lor.\n"
      ]
    },
    {
      "cell_type": "code",
      "execution_count": 1,
      "metadata": {
        "colab": {
          "base_uri": "https://localhost:8080/"
        },
        "id": "XVajk4xS1U_s",
        "outputId": "1e01981f-dfdb-4ca8-f714-e2e12eecb427"
      },
      "outputs": [
        {
          "name": "stdout",
          "output_type": "stream",
          "text": [
            "14.0\n",
            "-5.3999999999999995\n",
            "41.709999999999994\n",
            "0.443298969072165\n"
          ]
        }
      ],
      "source": [
        "## REZOLVARE EX. 1\n",
        "float1 = 4.3\n",
        "float2 = 9.7\n",
        "\n",
        "print(float1 + float2)\n",
        "print(float1 - float2)\n",
        "print(float1 * float2)\n",
        "print(float1 / float2)"
      ]
    },
    {
      "cell_type": "markdown",
      "metadata": {
        "id": "rX1bTh0S1VZp"
      },
      "source": [
        "2) Definiți un șir de caractere ce conține doar litere mari. Să se transforme caracterele\n",
        "citite în litere mici în 2 moduri: a) printr-o operație aritmetică; b) folosind o operație logică pe biți și o mască adecvată."
      ]
    },
    {
      "cell_type": "code",
      "execution_count": 12,
      "metadata": {
        "colab": {
          "base_uri": "https://localhost:8080/"
        },
        "id": "FaVO4UDM1aKa",
        "outputId": "1a58eb3d-70bb-4eb0-f5d6-1dbc488ac9fb"
      },
      "outputs": [
        {
          "name": "stdout",
          "output_type": "stream",
          "text": [
            "a\n",
            "a\n"
          ]
        }
      ],
      "source": [
        "## REZOLVARE EX. 2\n",
        "sir = 'A'\n",
        "lower_case = chr(ord(sir) + 32)\n",
        "print(lower_case)\n",
        "upper_case = chr(ord(sir) | 32)\n",
        "print(upper_case)"
      ]
    },
    {
      "cell_type": "markdown",
      "metadata": {
        "id": "JqgfsBR21aVx"
      },
      "source": [
        "3) Să se definească o listă de valori întregi și să se afișeze doar valorile distincte din aceasta."
      ]
    },
    {
      "cell_type": "code",
      "execution_count": 13,
      "metadata": {
        "colab": {
          "base_uri": "https://localhost:8080/"
        },
        "id": "jHqtNU3x1pY6",
        "outputId": "535c41b8-5f21-49f4-d4a2-77ca30edfb1e"
      },
      "outputs": [
        {
          "name": "stdout",
          "output_type": "stream",
          "text": [
            "{3, 5}\n"
          ]
        }
      ],
      "source": [
        "## REZOLVARE EX. 3\n",
        "lista = [1, 2, 3, 4, 5]\n",
        "L = set(lista)\n",
        "afisare = [1, 2, 4]\n",
        "a = set(afisare)\n",
        "print(L - a)"
      ]
    },
    {
      "cell_type": "markdown",
      "metadata": {
        "id": "sRty8CuF1poK"
      },
      "source": [
        "4) Să se definească un dicționar ce folosește șiruri de caractere pe post de chei și elemente float pe post de valori. Să se afișeze doar cheile dicționarului și mai apoi tupluri formate din chei și valori"
      ]
    },
    {
      "cell_type": "code",
      "execution_count": 15,
      "metadata": {
        "colab": {
          "base_uri": "https://localhost:8080/"
        },
        "id": "7wYgHAdD1788",
        "outputId": "96a531f6-9aaf-4f58-cc3d-1f1c751e5226"
      },
      "outputs": [
        {
          "name": "stdout",
          "output_type": "stream",
          "text": [
            "dict_keys(['cartofi', 'castraveti', 'telina'])\n",
            "[('cartofi', 5), ('castraveti', 9), ('telina', 2)]\n"
          ]
        }
      ],
      "source": [
        "## REZOLVARE EX. 4\n",
        "cumparaturi = {'cartofi' : 5,\n",
        "               'castraveti' : 9,\n",
        "               'telina' : 2}\n",
        "print(cumparaturi.keys())\n",
        "tuple_cumparaturi = list(cumparaturi.items())\n",
        "print(tuple_cumparaturi)"
      ]
    },
    {
      "cell_type": "markdown",
      "metadata": {
        "id": "iVJIRtG518J2"
      },
      "source": [
        "5) Să se definească 2 obiecte de tip float și să se determine partea întreagă a acestora folosind: a) o operație de conversie explicită; b) o funcție asociată tipului numeric."
      ]
    },
    {
      "cell_type": "code",
      "execution_count": 2,
      "metadata": {
        "id": "tanRz3Om2KOZ"
      },
      "outputs": [
        {
          "name": "stdout",
          "output_type": "stream",
          "text": [
            "Numărul 1: 5.78\n",
            "a) Partea întreagă (conversie explicită): 5\n",
            "\n",
            "Numărul 2: 9.42\n",
            "a) Partea întreagă (conversie explicită): 9\n",
            "\n",
            "b) Partea întreagă (funcție asociată tipului numeric): 5\n",
            "b) Partea întreagă (funcție asociată tipului numeric): 9\n"
          ]
        }
      ],
      "source": [
        "## REZOLVARE EX. 5\n",
        "\n",
        "\n",
        "numar1 = 5.78\n",
        "numar2 = 9.42\n",
        "\n",
        "\n",
        "parte_intreaga_1 = int(numar1)\n",
        "parte_intreaga_2 = int(numar2)\n",
        "\n",
        "\n",
        "parte_intreaga_altfel_1 = numar1.__int__()\n",
        "parte_intreaga_altfel_2 = numar2.__int__()\n",
        "\n",
        "\n",
        "print(f\"Numărul 1: {numar1}\")\n",
        "print(f\"a) Partea întreagă (conversie explicită): {parte_intreaga_1}\")\n",
        "\n",
        "print(f\"\\nNumărul 2: {numar2}\")\n",
        "print(f\"a) Partea întreagă (conversie explicită): {parte_intreaga_2}\")\n",
        "\n",
        "print(f\"\\nb) Partea întreagă (funcție asociată tipului numeric): {parte_intreaga_altfel_1}\")\n",
        "print(f\"b) Partea întreagă (funcție asociată tipului numeric): {parte_intreaga_altfel_2}\")\n"
      ]
    },
    {
      "cell_type": "markdown",
      "metadata": {
        "id": "HBwzxVv42JfA"
      },
      "source": [
        "6) Să se genereze un număr aleator între 0 și 10000, ce reprezintă un număr de secunde. Să se calculeze reprezentarea numărului de secunde în ore, minute și secunde și să se afișeze rezultatul formatat sub forma hh:mm:ss. Alternativ, folosiți modulul `datetime`."
      ]
    },
    {
      "cell_type": "code",
      "execution_count": 1,
      "metadata": {
        "id": "nVbxmdyj2L7m"
      },
      "outputs": [
        {
          "name": "stdout",
          "output_type": "stream",
          "text": [
            "Numărul de secunde: 2820\n",
            "Reprezentare formatată: 00:47:00\n"
          ]
        }
      ],
      "source": [
        "## REZOLVARE EX. 6\n",
        "\n",
        "import random\n",
        "\n",
        "\n",
        "numar_secunde = random.randint(0, 10000)\n",
        "\n",
        "ore = numar_secunde // 3600\n",
        "minute = (numar_secunde % 3600) // 60\n",
        "secunde = numar_secunde % 60\n",
        "\n",
        "# Afișare rezultat formatat\n",
        "rezultat_formatat = f\"{ore:02d}:{minute:02d}:{secunde:02d}\"\n",
        "print(f\"Numărul de secunde: {numar_secunde}\")\n",
        "print(f\"Reprezentare formatată: {rezultat_formatat}\")\n"
      ]
    },
    {
      "cell_type": "markdown",
      "metadata": {
        "id": "M1jKu1jG2Jib"
      },
      "source": [
        "7) Să se definească un șir de caractere și să se verifice că acesta conține doar caractere alfa-numerice."
      ]
    },
    {
      "cell_type": "code",
      "execution_count": 16,
      "metadata": {
        "colab": {
          "base_uri": "https://localhost:8080/"
        },
        "id": "R4-f65lU2NL0",
        "outputId": "17722561-5f36-4688-d348-4790615a5265"
      },
      "outputs": [
        {
          "name": "stdout",
          "output_type": "stream",
          "text": [
            "True\n"
          ]
        }
      ],
      "source": [
        "## REZOLVARE EX. 7\n",
        "alfa_numeric = \"CoJean100\"\n",
        "print(alfa_numeric.isalnum())"
      ]
    },
    {
      "cell_type": "markdown",
      "metadata": {
        "id": "XLXljz_u3Qom"
      },
      "source": [
        "8) Să se genereze o listă de numere aleatoare de dimensiune 10 și să se afișeze media lor folosind pachetul NumPy."
      ]
    },
    {
      "cell_type": "code",
      "execution_count": 21,
      "metadata": {
        "colab": {
          "base_uri": "https://localhost:8080/"
        },
        "id": "Gl_z8-St3v3j",
        "outputId": "f43a9e76-df8e-4ecb-fd68-f2a647dbc8f9"
      },
      "outputs": [
        {
          "name": "stdout",
          "output_type": "stream",
          "text": [
            "[37, 6, 24, 78, 18, 84, 66, 36, 51, 55]\n",
            "Media aritmetica a lor este:  45.5\n"
          ]
        }
      ],
      "source": [
        "## REZOLVARE EX. 8\n",
        "import numpy as np\n",
        "\n",
        "lista_dim = []\n",
        "\n",
        "for i in range(10):\n",
        "  lista_dim.append(np.random.randint(100))\n",
        "\n",
        "print(lista_dim)\n",
        "\n",
        "print(\"Media aritmetica a lor este: \", np.average(lista_dim))"
      ]
    },
    {
      "cell_type": "markdown",
      "metadata": {
        "id": "jpFJq9Ig3wOI"
      },
      "source": [
        "9) Să se definească un obiect de tip string și să se afișeze reprezentarea doar cu litere majuscule, precum și reprezentarea inversă a acestuia (de ex. \"maria\"->\"airam\")."
      ]
    },
    {
      "cell_type": "code",
      "execution_count": 22,
      "metadata": {
        "colab": {
          "base_uri": "https://localhost:8080/"
        },
        "id": "nb02EwAO397l",
        "outputId": "ab8be45a-e265-4878-e80b-a72ad097ba2d"
      },
      "outputs": [
        {
          "name": "stdout",
          "output_type": "stream",
          "text": [
            "MARIA\n",
            "airam\n"
          ]
        }
      ],
      "source": [
        "## REZOLVARE EX. 9\n",
        "obiect = \"maria\"\n",
        "\n",
        "print(obiect.upper())\n",
        "print(obiect[::-1])"
      ]
    }
  ],
  "metadata": {
    "colab": {
      "provenance": [],
      "toc_visible": true
    },
    "kernelspec": {
      "display_name": "Python 3",
      "name": "python3"
    },
    "language_info": {
      "codemirror_mode": {
        "name": "ipython",
        "version": 3
      },
      "file_extension": ".py",
      "mimetype": "text/x-python",
      "name": "python",
      "nbconvert_exporter": "python",
      "pygments_lexer": "ipython3",
      "version": "3.10.13"
    }
  },
  "nbformat": 4,
  "nbformat_minor": 0
}
